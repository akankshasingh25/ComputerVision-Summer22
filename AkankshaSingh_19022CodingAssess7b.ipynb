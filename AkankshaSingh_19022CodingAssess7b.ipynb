{
 "cells": [
  {
   "cell_type": "markdown",
   "metadata": {},
   "source": [
    "# DSE312: Computer Vision\n",
    "## Internal Coding Assignment\n",
    "### Akanksha Singh 19022"
   ]
  },
  {
   "cell_type": "markdown",
   "metadata": {},
   "source": [
    "### 7.2."
   ]
  },
  {
   "cell_type": "code",
   "execution_count": 5,
   "metadata": {},
   "outputs": [],
   "source": [
    "from sklearn import svm\n",
    "from sklearn.metrics import classification_report,accuracy_score\n",
    "from sklearn.model_selection import train_test_split\n",
    "from sklearn.neighbors import KNeighborsClassifier\n",
    "from sklearn.preprocessing import StandardScaler\n",
    "from matplotlib import pyplot as plt\n",
    "from skimage import color\n",
    "from skimage.feature import hog\n",
    "import struct\n",
    "import numpy as np \n",
    "import json\n",
    "import os\n",
    "from tqdm import tqdm\n",
    "from random import shuffle\n",
    "import pandas as pd\n",
    "import gzip\n",
    "import cv2"
   ]
  },
  {
   "cell_type": "code",
   "execution_count": 6,
   "metadata": {},
   "outputs": [],
   "source": [
    "import tensorflow as tf\n",
    "from tensorflow import keras\n",
    "from tensorflow.keras import layers as L\n",
    "from tensorflow.keras.models import Sequential, Model\n",
    "from tensorflow.keras.preprocessing.image import ImageDataGenerator\n",
    "from tensorflow.keras.preprocessing.image import load_img, img_to_array, array_to_img\n",
    "from tensorflow.keras.applications import ResNet50\n",
    "from tensorflow.python.keras.layers import Dense, Flatten, GlobalAveragePooling2D\n",
    "from keras.optimizers import adam_v2\n",
    "import seaborn as sns"
   ]
  },
  {
   "cell_type": "code",
   "execution_count": 7,
   "metadata": {},
   "outputs": [
    {
     "name": "stdout",
     "output_type": "stream",
     "text": [
      "(60000, 28, 28)\n",
      "(60000,)\n"
     ]
    }
   ],
   "source": [
    "images_path = 'train-images.idx3-ubyte'\n",
    "labels_path = 'train-labels.idx1-ubyte'\n",
    "\n",
    "with open(images_path, 'rb') as f1:\n",
    "    magic, size = struct.unpack('>II', f1.read(8))\n",
    "    nrows, ncols = struct.unpack('>II', f1.read(8))\n",
    "    data = np.fromfile(f1, dtype=np.dtype(np.uint8)).newbyteorder(\">\")\n",
    "    data = data.reshape((size, nrows, ncols))\n",
    "print(data.shape)\n",
    "\n",
    "with open(labels_path, 'rb') as f2:\n",
    "    magic, size = struct.unpack('>II', f2.read(8))\n",
    "    labels = np.fromfile(f2, dtype=np.dtype(np.uint8)).newbyteorder(\">\") \n",
    "print(labels.shape)"
   ]
  },
  {
   "cell_type": "code",
   "execution_count": 8,
   "metadata": {},
   "outputs": [
    {
     "name": "stdout",
     "output_type": "stream",
     "text": [
      "(42000, 28, 28)\n",
      "(18000, 28, 28)\n",
      "(42000,)\n",
      "(18000,)\n"
     ]
    }
   ],
   "source": [
    "X_train, X_test, y_train, y_test =train_test_split(data, labels, random_state=5, stratify=labels, test_size=0.3)\n",
    "print(X_train.shape)\n",
    "print(X_test.shape)\n",
    "print(y_train.shape)\n",
    "print(y_test.shape)"
   ]
  },
  {
   "cell_type": "code",
   "execution_count": 9,
   "metadata": {},
   "outputs": [],
   "source": [
    "def change_size(image):\n",
    "    img = array_to_img(image, scale=False) #returns PIL Image\n",
    "    img = img.resize((75, 75)) #resize image\n",
    "    img = img.convert(mode='RGB') #makes 3 channels\n",
    "    arr = img_to_array(img) #convert back to array\n",
    "    return arr.astype(np.float64)"
   ]
  },
  {
   "cell_type": "code",
   "execution_count": 10,
   "metadata": {},
   "outputs": [
    {
     "name": "stderr",
     "output_type": "stream",
     "text": [
      "100%|██████████| 42000/42000 [00:20<00:00, 2005.83it/s]\n"
     ]
    },
    {
     "name": "stdout",
     "output_type": "stream",
     "text": [
      "(42000, 75, 75, 3)\n"
     ]
    },
    {
     "name": "stderr",
     "output_type": "stream",
     "text": [
      "100%|██████████| 18000/18000 [00:07<00:00, 2436.51it/s]\n"
     ]
    },
    {
     "name": "stdout",
     "output_type": "stream",
     "text": [
      "(18000, 75, 75, 3)\n"
     ]
    }
   ],
   "source": [
    "train_arr = np.array(X_train).reshape(-1, 28, 28, 1)\n",
    "train_arr_75 = [change_size(img) for img in tqdm(train_arr)]\n",
    "del train_arr\n",
    "train_arr_75 = np.array(train_arr_75)\n",
    "print(train_arr_75.shape)\n",
    "\n",
    "test_arr = np.array(X_test).reshape(-1, 28, 28, 1)\n",
    "test_arr_75 = [change_size(img) for img in tqdm(test_arr)]\n",
    "del test_arr\n",
    "test_arr_75 = np.array(test_arr_75)\n",
    "print(test_arr_75.shape)"
   ]
  },
  {
   "cell_type": "code",
   "execution_count": 11,
   "metadata": {},
   "outputs": [
    {
     "name": "stdout",
     "output_type": "stream",
     "text": [
      "(42000, 10)\n",
      "(18000, 10)\n"
     ]
    }
   ],
   "source": [
    "y_train = tf.keras.utils.to_categorical(y_train)\n",
    "print(y_train.shape)\n",
    "y_testc = tf.keras.utils.to_categorical(y_test)\n",
    "print(y_testc.shape)\n",
    "\n",
    "image_gen = ImageDataGenerator(rescale=1./255, #easier for network to interpret␣numbers in range [0,1]\n",
    "                                zoom_range=0.1,\n",
    "                                width_shift_range=0.2,\n",
    "                                height_shift_range=0.2,\n",
    "                                validation_split=0.2) # 80/20 train/val split\n",
    "\n",
    "train_generator = image_gen.flow(train_arr_75, y_train, batch_size=32, shuffle=True, subset='training', seed=42)\n",
    "valid_generator = image_gen.flow(train_arr_75, y_train, batch_size=16, shuffle=True, subset='validation')\n",
    "test_generator = image_gen.flow(test_arr_75, y_testc, batch_size=32, shuffle=False, seed=42)\n",
    "del train_arr_75"
   ]
  },
  {
   "cell_type": "code",
   "execution_count": 12,
   "metadata": {},
   "outputs": [],
   "source": [
    "base_model = tf.keras.applications.resnet50.ResNet50(input_shape = (75, 75, 3),include_top = False,weights = 'imagenet')\n",
    "#base_model.trainable = False\n",
    "model = Sequential()\n",
    "model.add(base_model)\n",
    "model.add(L.Flatten())\n",
    "model.add(L.Dense(256, activation='relu'))\n",
    "model.add(L.Dense(128, activation='relu'))\n",
    "model.add(L.Dense(10, activation='softmax'))\n",
    "model.compile(optimizer=keras.optimizers.Adam(learning_rate=0.0001), loss='categorical_crossentropy', metrics=['accuracy'])"
   ]
  },
  {
   "cell_type": "code",
   "execution_count": 13,
   "metadata": {},
   "outputs": [],
   "source": [
    "for layer in model.layers[0].layers:\n",
    "    if layer.name == 'conv5_block1_0_conv':\n",
    "        break\n",
    "    layer.trainable=False"
   ]
  },
  {
   "cell_type": "code",
   "execution_count": 14,
   "metadata": {},
   "outputs": [
    {
     "name": "stdout",
     "output_type": "stream",
     "text": [
      "Model: \"sequential\"\n",
      "_________________________________________________________________\n",
      " Layer (type)                Output Shape              Param #   \n",
      "=================================================================\n",
      " resnet50 (Functional)       (None, 3, 3, 2048)        23587712  \n",
      "                                                                 \n",
      " flatten (Flatten)           (None, 18432)             0         \n",
      "                                                                 \n",
      " dense (Dense)               (None, 256)               4718848   \n",
      "                                                                 \n",
      " dense_1 (Dense)             (None, 128)               32896     \n",
      "                                                                 \n",
      " dense_2 (Dense)             (None, 10)                1290      \n",
      "                                                                 \n",
      "=================================================================\n",
      "Total params: 28,340,746\n",
      "Trainable params: 16,842,378\n",
      "Non-trainable params: 11,498,368\n",
      "_________________________________________________________________\n"
     ]
    }
   ],
   "source": [
    "model.summary()"
   ]
  },
  {
   "cell_type": "code",
   "execution_count": 15,
   "metadata": {},
   "outputs": [
    {
     "name": "stdout",
     "output_type": "stream",
     "text": [
      "Epoch 1/5\n",
      "1050/1050 [==============================] - 1879s 2s/step - loss: 0.1855 - accuracy: 0.9447 - val_loss: 0.1633 - val_accuracy: 0.9569\n",
      "Epoch 2/5\n",
      "1050/1050 [==============================] - 1698s 2s/step - loss: 0.0783 - accuracy: 0.9786 - val_loss: 0.0477 - val_accuracy: 0.9858\n",
      "Epoch 3/5\n",
      "1050/1050 [==============================] - 1783s 2s/step - loss: 0.0516 - accuracy: 0.9855 - val_loss: 0.0491 - val_accuracy: 0.9874\n",
      "Epoch 4/5\n",
      "1050/1050 [==============================] - 1794s 2s/step - loss: 0.0444 - accuracy: 0.9882 - val_loss: 0.0539 - val_accuracy: 0.9885\n",
      "Epoch 5/5\n",
      "1050/1050 [==============================] - 1738s 2s/step - loss: 0.0455 - accuracy: 0.9877 - val_loss: 0.0496 - val_accuracy: 0.9870\n"
     ]
    }
   ],
   "source": [
    "epochs = 5\n",
    "history = model.fit(train_generator, validation_data=valid_generator,epochs=epochs,\n",
    "                    steps_per_epoch=train_generator.n//train_generator.batch_size,\n",
    "                    validation_steps=valid_generator.n//valid_generator.batch_size)"
   ]
  },
  {
   "cell_type": "code",
   "execution_count": 16,
   "metadata": {},
   "outputs": [
    {
     "name": "stdout",
     "output_type": "stream",
     "text": [
      "563/563 [==============================] - 144s 254ms/step\n"
     ]
    }
   ],
   "source": [
    "pred = model.predict(test_generator)\n",
    "predictions = np.argmax(pred,axis = 1)"
   ]
  },
  {
   "cell_type": "code",
   "execution_count": 17,
   "metadata": {},
   "outputs": [
    {
     "data": {
      "text/plain": [
       "<tf.Tensor: shape=(10, 10), dtype=int32, numpy=\n",
       "array([[1764,    0,    0,    0,    4,    0,    3,    1,    4,    1],\n",
       "       [   0, 2009,    4,    0,    2,    0,    1,    7,    0,    0],\n",
       "       [   0,    4, 1756,    4,    5,    0,    6,    7,    3,    2],\n",
       "       [   0,    0,    3, 1832,    0,    4,    0,    0,    0,    0],\n",
       "       [   0,    1,    0,    0, 1710,    1,    4,   13,    0,   24],\n",
       "       [   1,    0,    2,   10,    0, 1609,    4,    0,    0,    0],\n",
       "       [   1,    0,    1,    0,    2,    2, 1769,    0,    0,    0],\n",
       "       [   0,    7,    7,    6,    0,    0,    0, 1859,    0,    1],\n",
       "       [   2,    0,    4,    5,    1,    9,    9,    2, 1719,    4],\n",
       "       [   1,    2,    0,    2,    2,    2,    1,    7,    7, 1761]])>"
      ]
     },
     "execution_count": 17,
     "metadata": {},
     "output_type": "execute_result"
    }
   ],
   "source": [
    "tf.math.confusion_matrix(y_test,predictions)"
   ]
  },
  {
   "cell_type": "code",
   "execution_count": 18,
   "metadata": {},
   "outputs": [
    {
     "name": "stdout",
     "output_type": "stream",
     "text": [
      "              precision    recall  f1-score   support\n",
      "\n",
      "           0       1.00      0.99      0.99      1777\n",
      "           1       0.99      0.99      0.99      2023\n",
      "           2       0.99      0.98      0.99      1787\n",
      "           3       0.99      1.00      0.99      1839\n",
      "           4       0.99      0.98      0.98      1753\n",
      "           5       0.99      0.99      0.99      1626\n",
      "           6       0.98      1.00      0.99      1775\n",
      "           7       0.98      0.99      0.98      1880\n",
      "           8       0.99      0.98      0.99      1755\n",
      "           9       0.98      0.99      0.98      1785\n",
      "\n",
      "    accuracy                           0.99     18000\n",
      "   macro avg       0.99      0.99      0.99     18000\n",
      "weighted avg       0.99      0.99      0.99     18000\n",
      "\n"
     ]
    }
   ],
   "source": [
    "print(classification_report(y_test,predictions))"
   ]
  },
  {
   "cell_type": "code",
   "execution_count": 19,
   "metadata": {},
   "outputs": [
    {
     "data": {
      "image/png": "[encoded data removed]",
      "text/plain": [
       "<Figure size 800x800 with 2 Axes>"
      ]
     },
     "metadata": {},
     "output_type": "display_data"
    }
   ],
   "source": [
    "acc = history.history[\"accuracy\"]\n",
    "val_acc = history.history[\"val_accuracy\"]\n",
    "loss = history.history[\"loss\"]\n",
    "val_loss = history.history[\"val_loss\"]\n",
    "epochs = epochs\n",
    "epochs_range = range(epochs)\n",
    "\n",
    "plt.figure(figsize=(8, 8))\n",
    "plt.subplot(1, 2, 1)\n",
    "plt.plot(epochs_range, acc, label=\"Training Accuracy\")\n",
    "plt.plot(epochs_range, val_acc, label=\"Validation Accuracy\")\n",
    "plt.legend(loc=\"lower right\")\n",
    "plt.title(\"Training and Validation Accuracy\")\n",
    "\n",
    "plt.subplot(1, 2, 2)\n",
    "plt.plot(epochs_range, loss, label=\"Training Loss\")\n",
    "plt.plot(epochs_range, val_loss, label=\"Validation Loss\")\n",
    "plt.legend(loc=\"upper right\")\n",
    "plt.title(\"Training and Validation Loss\")\n",
    "plt.show()"
   ]
  }
 ],
 "metadata": {
  "colab": {
   "collapsed_sections": [],
   "provenance": []
  },
  "kernelspec": {
   "display_name": "Python 3 (ipykernel)",
   "language": "python",
   "name": "python3"
  },
  "language_info": {
   "codemirror_mode": {
    "name": "ipython",
    "version": 3
   },
   "file_extension": ".py",
   "mimetype": "text/x-python",
   "name": "python",
   "nbconvert_exporter": "python",
   "pygments_lexer": "ipython3",
   "version": "3.10.7"
  }
 },
 "nbformat": 4,
 "nbformat_minor": 1
}
