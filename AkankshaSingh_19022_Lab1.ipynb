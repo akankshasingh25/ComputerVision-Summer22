{
 "cells": [
  {
   "cell_type": "markdown",
   "id": "bea15c08",
   "metadata": {},
   "source": [
    "Q1"
   ]
  },
  {
   "cell_type": "code",
   "execution_count": 1,
   "id": "26fb72b0",
   "metadata": {},
   "outputs": [],
   "source": [
    "x= 5\n",
    "y= 3.2\n",
    "z= 10"
   ]
  },
  {
   "cell_type": "code",
   "execution_count": 2,
   "id": "40b2fb79",
   "metadata": {},
   "outputs": [
    {
     "name": "stdout",
     "output_type": "stream",
     "text": [
      "5\n"
     ]
    },
    {
     "data": {
      "text/plain": [
       "int"
      ]
     },
     "execution_count": 2,
     "metadata": {},
     "output_type": "execute_result"
    }
   ],
   "source": [
    "print(x)\n",
    "type(x)"
   ]
  },
  {
   "cell_type": "code",
   "execution_count": 3,
   "id": "c96d7005",
   "metadata": {},
   "outputs": [
    {
     "name": "stdout",
     "output_type": "stream",
     "text": [
      "3.2\n"
     ]
    },
    {
     "data": {
      "text/plain": [
       "float"
      ]
     },
     "execution_count": 3,
     "metadata": {},
     "output_type": "execute_result"
    }
   ],
   "source": [
    "print(y)\n",
    "type(y)"
   ]
  },
  {
   "cell_type": "code",
   "execution_count": 4,
   "id": "e78055e3",
   "metadata": {},
   "outputs": [
    {
     "name": "stdout",
     "output_type": "stream",
     "text": [
      "10\n"
     ]
    },
    {
     "data": {
      "text/plain": [
       "int"
      ]
     },
     "execution_count": 4,
     "metadata": {},
     "output_type": "execute_result"
    }
   ],
   "source": [
    "print(z)\n",
    "type(z)"
   ]
  },
  {
   "cell_type": "code",
   "execution_count": 5,
   "id": "8fe0a7ce",
   "metadata": {},
   "outputs": [
    {
     "name": "stdout",
     "output_type": "stream",
     "text": [
      "1.5625\n"
     ]
    },
    {
     "data": {
      "text/plain": [
       "float"
      ]
     },
     "execution_count": 5,
     "metadata": {},
     "output_type": "execute_result"
    }
   ],
   "source": [
    "print(x/y)\n",
    "type(x/y)"
   ]
  },
  {
   "cell_type": "code",
   "execution_count": 6,
   "id": "399d8c2e",
   "metadata": {},
   "outputs": [
    {
     "name": "stdout",
     "output_type": "stream",
     "text": [
      "16.0\n"
     ]
    },
    {
     "data": {
      "text/plain": [
       "float"
      ]
     },
     "execution_count": 6,
     "metadata": {},
     "output_type": "execute_result"
    }
   ],
   "source": [
    "print(x*y)\n",
    "type(x*y)"
   ]
  },
  {
   "cell_type": "code",
   "execution_count": 7,
   "id": "84ea4e74",
   "metadata": {},
   "outputs": [
    {
     "name": "stdout",
     "output_type": "stream",
     "text": [
      "8.2\n"
     ]
    },
    {
     "data": {
      "text/plain": [
       "float"
      ]
     },
     "execution_count": 7,
     "metadata": {},
     "output_type": "execute_result"
    }
   ],
   "source": [
    "print(x+y)\n",
    "type(x+y)"
   ]
  },
  {
   "cell_type": "code",
   "execution_count": 8,
   "id": "89c7e6e9",
   "metadata": {},
   "outputs": [
    {
     "name": "stdout",
     "output_type": "stream",
     "text": [
      "1.7999999999999998\n"
     ]
    },
    {
     "data": {
      "text/plain": [
       "float"
      ]
     },
     "execution_count": 8,
     "metadata": {},
     "output_type": "execute_result"
    }
   ],
   "source": [
    "print(x-y)\n",
    "type(x-y)"
   ]
  },
  {
   "cell_type": "code",
   "execution_count": 9,
   "id": "5132edc5",
   "metadata": {},
   "outputs": [
    {
     "name": "stdout",
     "output_type": "stream",
     "text": [
      "82.0\n"
     ]
    },
    {
     "data": {
      "text/plain": [
       "float"
      ]
     },
     "execution_count": 9,
     "metadata": {},
     "output_type": "execute_result"
    }
   ],
   "source": [
    "print((x+y)*z)\n",
    "type((x+y)*z)"
   ]
  },
  {
   "cell_type": "code",
   "execution_count": 10,
   "id": "c788d7a0",
   "metadata": {},
   "outputs": [
    {
     "name": "stdout",
     "output_type": "stream",
     "text": [
      "-1.8000000000000007\n"
     ]
    },
    {
     "data": {
      "text/plain": [
       "float"
      ]
     },
     "execution_count": 10,
     "metadata": {},
     "output_type": "execute_result"
    }
   ],
   "source": [
    "print(x+y-z)\n",
    "type(x+y-z)"
   ]
  },
  {
   "cell_type": "code",
   "execution_count": 11,
   "id": "5c3d87f2",
   "metadata": {},
   "outputs": [
    {
     "name": "stdout",
     "output_type": "stream",
     "text": [
      "1.8000000000000007\n"
     ]
    },
    {
     "data": {
      "text/plain": [
       "float"
      ]
     },
     "execution_count": 11,
     "metadata": {},
     "output_type": "execute_result"
    }
   ],
   "source": [
    "print(abs(x+y-z))\n",
    "type(abs(x+y-z))"
   ]
  },
  {
   "cell_type": "code",
   "execution_count": 12,
   "id": "06af5521",
   "metadata": {},
   "outputs": [
    {
     "name": "stdout",
     "output_type": "stream",
     "text": [
      "0\n"
     ]
    },
    {
     "data": {
      "text/plain": [
       "int"
      ]
     },
     "execution_count": 12,
     "metadata": {},
     "output_type": "execute_result"
    }
   ],
   "source": [
    "print(z%x)\n",
    "type(z%x)"
   ]
  },
  {
   "cell_type": "code",
   "execution_count": 13,
   "id": "21a6981b",
   "metadata": {},
   "outputs": [
    {
     "name": "stdout",
     "output_type": "stream",
     "text": [
      "5\n"
     ]
    },
    {
     "data": {
      "text/plain": [
       "int"
      ]
     },
     "execution_count": 13,
     "metadata": {},
     "output_type": "execute_result"
    }
   ],
   "source": [
    "print(x%z)\n",
    "type(x%z)"
   ]
  },
  {
   "cell_type": "code",
   "execution_count": 14,
   "id": "ca6ad5eb",
   "metadata": {},
   "outputs": [
    {
     "name": "stdout",
     "output_type": "stream",
     "text": [
      "135.24\n"
     ]
    },
    {
     "data": {
      "text/plain": [
       "float"
      ]
     },
     "execution_count": 14,
     "metadata": {},
     "output_type": "execute_result"
    }
   ],
   "source": [
    "def square(a):\n",
    "    return a**2\n",
    "\n",
    "print(square(x)+square(y)+square(z))\n",
    "type(square(x)+square(y)+square(z))"
   ]
  },
  {
   "cell_type": "code",
   "execution_count": 15,
   "id": "d5cad3f5",
   "metadata": {},
   "outputs": [
    {
     "name": "stdout",
     "output_type": "stream",
     "text": [
      "2.8635642126552705\n"
     ]
    },
    {
     "data": {
      "text/plain": [
       "float"
      ]
     },
     "execution_count": 15,
     "metadata": {},
     "output_type": "execute_result"
    }
   ],
   "source": [
    "import math\n",
    "print(math.sqrt(x+y))\n",
    "type(math.sqrt(x+y))"
   ]
  },
  {
   "cell_type": "markdown",
   "id": "b106030e",
   "metadata": {},
   "source": [
    "Q2"
   ]
  },
  {
   "cell_type": "code",
   "execution_count": 16,
   "id": "049b7133",
   "metadata": {},
   "outputs": [
    {
     "name": "stdout",
     "output_type": "stream",
     "text": [
      "[1, 2, 3, 4, 5, 6, 7, 8, 9, 10, 11, 12, 13, 14, 15, 16, 17, 18, 19, 20, 21]\n",
      "21\n"
     ]
    }
   ],
   "source": [
    "integer_list = []\n",
    "for x in range(1,22):\n",
    "    integer_list.append(x)\n",
    "    \n",
    "n= len(integer_list)\n",
    "print(integer_list)\n",
    "print(n)"
   ]
  },
  {
   "cell_type": "code",
   "execution_count": 17,
   "id": "93200dac",
   "metadata": {},
   "outputs": [
    {
     "name": "stdout",
     "output_type": "stream",
     "text": [
      "231\n"
     ]
    }
   ],
   "source": [
    "listsum=0\n",
    "for x in range(n):\n",
    "    listsum+=integer_list[x]\n",
    "    \n",
    "print(listsum)"
   ]
  },
  {
   "cell_type": "code",
   "execution_count": 18,
   "id": "42b7f711",
   "metadata": {},
   "outputs": [],
   "source": [
    "integer_list[1]=42\n",
    "integer_list[n-1]=-36"
   ]
  },
  {
   "cell_type": "code",
   "execution_count": 19,
   "id": "8ed45b77",
   "metadata": {},
   "outputs": [
    {
     "name": "stdout",
     "output_type": "stream",
     "text": [
      "[-35, 62, 22, 22, 22, 22, 22, 22, 22, 22]\n"
     ]
    },
    {
     "data": {
      "image/png": "[encoded data removed]",
      "text/plain": [
       "<Figure size 432x288 with 1 Axes>"
      ]
     },
     "metadata": {
      "needs_background": "light"
     },
     "output_type": "display_data"
    }
   ],
   "source": [
    "import matplotlib.pyplot as plt\n",
    "import numpy as np\n",
    "\n",
    "sum = []\n",
    "for x in range(0, int(n/2)):\n",
    "        sum.append(integer_list[x]+integer_list[n-1-x])\n",
    "        x+=1\n",
    "        \n",
    "print(sum)\n",
    "\n",
    "plt.plot(sum,)\n",
    "plt.show()"
   ]
  },
  {
   "cell_type": "markdown",
   "id": "588964bc",
   "metadata": {},
   "source": [
    "Q3"
   ]
  },
  {
   "cell_type": "code",
   "execution_count": 20,
   "id": "6289519a",
   "metadata": {},
   "outputs": [
    {
     "name": "stdout",
     "output_type": "stream",
     "text": [
      "4\n"
     ]
    }
   ],
   "source": [
    "Dict = {}\n",
    "Dict['City'] = 'Bhopal'\n",
    "Dict['Institute'] = 'IISERB'\n",
    "Dict['Hostelname'] = 'Eagle'\n",
    "Dict['Lecture room_number'] = '4'\n",
    "\n",
    "print(Dict['Lecture room_number'])\n",
    "Dict.update(course ='DSE-312')"
   ]
  },
  {
   "cell_type": "markdown",
   "id": "64846e42",
   "metadata": {},
   "source": [
    "Q4"
   ]
  },
  {
   "cell_type": "code",
   "execution_count": 21,
   "id": "bccf1090",
   "metadata": {
    "scrolled": true
   },
   "outputs": [
    {
     "name": "stdout",
     "output_type": "stream",
     "text": [
      "[1.  1.1 1.2 1.3 1.4 1.5 1.6 1.7 1.8 1.9 2.  2.1 2.2 2.3 2.4 2.5 2.6 2.7\n",
      " 2.8 2.9 3.  3.1 3.2 3.3 3.4 3.5 3.6 3.7 3.8 3.9 4.  4.1 4.2 4.3 4.4 4.5\n",
      " 4.6 4.7 4.8 4.9 5.  5.1 5.2 5.3 5.4 5.5 5.6 5.7 5.8 5.9 6.  6.1 6.2 6.3\n",
      " 6.4 6.5 6.6 6.7 6.8 6.9 7.  7.1 7.2 7.3 7.4 7.5 7.6 7.7 7.8 7.9 8.  8.1\n",
      " 8.2 8.3 8.4 8.5 8.6 8.7 8.8 8.9 9.  9.1 9.2 9.3 9.4 9.5 9.6 9.7 9.8 9.9]\n"
     ]
    }
   ],
   "source": [
    "import numpy as np\n",
    "\n",
    "arr = np.arange(1,10,0.1)\n",
    "print(arr)"
   ]
  },
  {
   "cell_type": "code",
   "execution_count": 22,
   "id": "82bfe33a",
   "metadata": {},
   "outputs": [
    {
     "data": {
      "text/plain": [
       "array([[1. , 1.1],\n",
       "       [1.2, 1.3],\n",
       "       [1.4, 1.5],\n",
       "       [1.6, 1.7],\n",
       "       [1.8, 1.9],\n",
       "       [2. , 2.1],\n",
       "       [2.2, 2.3],\n",
       "       [2.4, 2.5],\n",
       "       [2.6, 2.7],\n",
       "       [2.8, 2.9],\n",
       "       [3. , 3.1],\n",
       "       [3.2, 3.3],\n",
       "       [3.4, 3.5],\n",
       "       [3.6, 3.7],\n",
       "       [3.8, 3.9],\n",
       "       [4. , 4.1],\n",
       "       [4.2, 4.3],\n",
       "       [4.4, 4.5],\n",
       "       [4.6, 4.7],\n",
       "       [4.8, 4.9],\n",
       "       [5. , 5.1],\n",
       "       [5.2, 5.3],\n",
       "       [5.4, 5.5],\n",
       "       [5.6, 5.7],\n",
       "       [5.8, 5.9],\n",
       "       [6. , 6.1],\n",
       "       [6.2, 6.3],\n",
       "       [6.4, 6.5],\n",
       "       [6.6, 6.7],\n",
       "       [6.8, 6.9],\n",
       "       [7. , 7.1],\n",
       "       [7.2, 7.3],\n",
       "       [7.4, 7.5],\n",
       "       [7.6, 7.7],\n",
       "       [7.8, 7.9],\n",
       "       [8. , 8.1],\n",
       "       [8.2, 8.3],\n",
       "       [8.4, 8.5],\n",
       "       [8.6, 8.7],\n",
       "       [8.8, 8.9],\n",
       "       [9. , 9.1],\n",
       "       [9.2, 9.3],\n",
       "       [9.4, 9.5],\n",
       "       [9.6, 9.7],\n",
       "       [9.8, 9.9]])"
      ]
     },
     "execution_count": 22,
     "metadata": {},
     "output_type": "execute_result"
    }
   ],
   "source": [
    "arr2 = np.arange(1,10,0.1).reshape(45,2)\n",
    "arr2"
   ]
  },
  {
   "cell_type": "markdown",
   "id": "1b03973e",
   "metadata": {},
   "source": [
    "Q5"
   ]
  },
  {
   "cell_type": "code",
   "execution_count": 23,
   "id": "0ccf2120",
   "metadata": {},
   "outputs": [
    {
     "data": {
      "text/plain": [
       "-2"
      ]
     },
     "execution_count": 23,
     "metadata": {},
     "output_type": "execute_result"
    }
   ],
   "source": [
    "A = [[22,-22,33], [-33,44,55], [-55, -44, -2]]\n",
    "arr3 = np.array(A)\n",
    "total = arr3.sum()\n",
    "total"
   ]
  },
  {
   "cell_type": "code",
   "execution_count": 24,
   "id": "edc79a4d",
   "metadata": {},
   "outputs": [
    {
     "data": {
      "text/plain": [
       "-2"
      ]
     },
     "execution_count": 24,
     "metadata": {},
     "output_type": "execute_result"
    }
   ],
   "source": [
    "sum = 0\n",
    "for i in range(0,3):\n",
    "    for j in range(0,3):\n",
    "        sum = A[i][j]\n",
    "        j+=1\n",
    "    i+=1\n",
    "\n",
    "sum"
   ]
  },
  {
   "cell_type": "markdown",
   "id": "9a67b7f0",
   "metadata": {},
   "source": [
    "Q6"
   ]
  },
  {
   "cell_type": "code",
   "execution_count": 25,
   "id": "ef641bf4",
   "metadata": {},
   "outputs": [
    {
     "data": {
      "text/plain": [
       "array([ -8, -16,  -8])"
      ]
     },
     "execution_count": 25,
     "metadata": {},
     "output_type": "execute_result"
    }
   ],
   "source": [
    "a = np.array([3,-2,1])\n",
    "b = np.array([-7,2,3])\n",
    "\n",
    "cross = np.cross(a,b)\n",
    "cross"
   ]
  },
  {
   "cell_type": "code",
   "execution_count": 26,
   "id": "ba4a3ae0",
   "metadata": {},
   "outputs": [
    {
     "data": {
      "text/plain": [
       "-22"
      ]
     },
     "execution_count": 26,
     "metadata": {},
     "output_type": "execute_result"
    }
   ],
   "source": [
    "dot = np.dot(a,b)\n",
    "dot"
   ]
  },
  {
   "cell_type": "code",
   "execution_count": 27,
   "id": "bbcc788e",
   "metadata": {},
   "outputs": [
    {
     "name": "stderr",
     "output_type": "stream",
     "text": [
      "C:\\Users\\akank\\AppData\\Local\\Temp\\ipykernel_29824\\31116811.py:4: RuntimeWarning: invalid value encountered in arccos\n",
      "  angle = np.arccos(dot1)\n"
     ]
    },
    {
     "data": {
      "text/plain": [
       "nan"
      ]
     },
     "execution_count": 27,
     "metadata": {},
     "output_type": "execute_result"
    }
   ],
   "source": [
    "a1 = np.linalg.norm(a)\n",
    "b1 = np.linalg.norm(b)\n",
    "dot1 = np.dot(a1,b1)\n",
    "angle = np.arccos(dot1)\n",
    "angle"
   ]
  },
  {
   "cell_type": "markdown",
   "id": "dcc9fce1",
   "metadata": {},
   "source": [
    "Q7"
   ]
  },
  {
   "cell_type": "code",
   "execution_count": 28,
   "id": "86702e04",
   "metadata": {},
   "outputs": [
    {
     "data": {
      "text/plain": [
       "array([[0., 0., 0., 0.],\n",
       "       [0., 0., 0., 0.],\n",
       "       [0., 0., 0., 0.]])"
      ]
     },
     "execution_count": 28,
     "metadata": {},
     "output_type": "execute_result"
    }
   ],
   "source": [
    "arr4 = np.zeros((3,4))\n",
    "arr4"
   ]
  },
  {
   "cell_type": "code",
   "execution_count": 29,
   "id": "5c51aadb",
   "metadata": {},
   "outputs": [
    {
     "data": {
      "text/plain": [
       "array([[[1., 1., 1.],\n",
       "        [1., 1., 1.],\n",
       "        [1., 1., 1.]],\n",
       "\n",
       "       [[1., 1., 1.],\n",
       "        [1., 1., 1.],\n",
       "        [1., 1., 1.]],\n",
       "\n",
       "       [[1., 1., 1.],\n",
       "        [1., 1., 1.],\n",
       "        [1., 1., 1.]],\n",
       "\n",
       "       [[1., 1., 1.],\n",
       "        [1., 1., 1.],\n",
       "        [1., 1., 1.]]])"
      ]
     },
     "execution_count": 29,
     "metadata": {},
     "output_type": "execute_result"
    }
   ],
   "source": [
    "arr5 = np.ones((4,3,3))\n",
    "arr5"
   ]
  },
  {
   "cell_type": "code",
   "execution_count": 30,
   "id": "c8ed98e6",
   "metadata": {},
   "outputs": [
    {
     "data": {
      "text/plain": [
       "array([[1., 0., 0.],\n",
       "       [0., 1., 0.],\n",
       "       [0., 0., 1.]])"
      ]
     },
     "execution_count": 30,
     "metadata": {},
     "output_type": "execute_result"
    }
   ],
   "source": [
    "arr6 = np.identity(3)\n",
    "arr6"
   ]
  },
  {
   "cell_type": "code",
   "execution_count": 31,
   "id": "6ac1d48b",
   "metadata": {},
   "outputs": [
    {
     "data": {
      "text/plain": [
       "array([[0.87116785, 0.90963231, 0.80560271, 0.95532336, 0.17525035,\n",
       "        0.1299839 ],\n",
       "       [0.77681239, 0.18610389, 0.27437319, 0.81592427, 0.92465018,\n",
       "        0.7854173 ],\n",
       "       [0.89202914, 0.94516234, 0.7839275 , 0.68131443, 0.52747761,\n",
       "        0.94120066],\n",
       "       [0.4806506 , 0.0810738 , 0.2757246 , 0.91237186, 0.31866728,\n",
       "        0.35433966]])"
      ]
     },
     "execution_count": 31,
     "metadata": {},
     "output_type": "execute_result"
    }
   ],
   "source": [
    "np.random.uniform(low = 0.0, high = 1.0, size =(4,6))"
   ]
  },
  {
   "cell_type": "markdown",
   "id": "f88b7a06",
   "metadata": {},
   "source": [
    "Q8"
   ]
  },
  {
   "cell_type": "code",
   "execution_count": 32,
   "id": "7bd3859a",
   "metadata": {},
   "outputs": [
    {
     "data": {
      "text/plain": [
       "array([[0., 0., 0., 0., 0.],\n",
       "       [0., 0., 0., 0., 0.],\n",
       "       [0., 0., 0., 0., 0.],\n",
       "       [0., 0., 0., 0., 0.],\n",
       "       [0., 0., 0., 0., 0.]])"
      ]
     },
     "execution_count": 32,
     "metadata": {},
     "output_type": "execute_result"
    }
   ],
   "source": [
    "arr8 = np.zeros((5,5))\n",
    "arr8"
   ]
  },
  {
   "cell_type": "code",
   "execution_count": 33,
   "id": "26ec0de0",
   "metadata": {},
   "outputs": [
    {
     "data": {
      "text/plain": [
       "array([[1., 1., 1., 1., 1.],\n",
       "       [1., 1., 1., 1., 1.],\n",
       "       [1., 1., 1., 1., 1.],\n",
       "       [1., 1., 1., 1., 1.],\n",
       "       [1., 1., 1., 1., 1.]])"
      ]
     },
     "execution_count": 33,
     "metadata": {},
     "output_type": "execute_result"
    }
   ],
   "source": [
    "arr9 = np.ones((5,5))\n",
    "arr9"
   ]
  },
  {
   "cell_type": "code",
   "execution_count": 34,
   "id": "1625a1c8",
   "metadata": {},
   "outputs": [
    {
     "data": {
      "text/plain": [
       "array([[0.42313622, 0.84379908, 0.79812142, 0.72195658, 0.70048677],\n",
       "       [0.95553154, 0.38387476, 0.26892095, 0.59792026, 0.34852386],\n",
       "       [0.88882633, 0.00559653, 0.32368473, 0.55242489, 0.909936  ],\n",
       "       [0.43516543, 0.24648078, 0.78376605, 0.62518222, 0.63608047],\n",
       "       [0.97387619, 0.37024395, 0.12216351, 0.388074  , 0.95651784]])"
      ]
     },
     "execution_count": 34,
     "metadata": {},
     "output_type": "execute_result"
    }
   ],
   "source": [
    "arr10 = np.random.random((5,5))\n",
    "arr10"
   ]
  },
  {
   "cell_type": "code",
   "execution_count": 35,
   "id": "0f02e0ee",
   "metadata": {},
   "outputs": [
    {
     "data": {
      "text/plain": [
       "array([[0.343633  , 0.0269598 , 0.65958555, 0.04978622, 0.50744371],\n",
       "       [0.13139649, 0.24496591, 0.02957073, 0.70882441, 0.48546813],\n",
       "       [0.12201333, 0.60934415, 0.58193741, 0.8034965 , 0.74294053],\n",
       "       [0.38207591, 0.4934503 , 0.32574151, 0.14209429, 0.35954221],\n",
       "       [0.38539162, 0.70346639, 0.69446011, 0.85173439, 0.87875081]])"
      ]
     },
     "execution_count": 35,
     "metadata": {},
     "output_type": "execute_result"
    }
   ],
   "source": [
    "arr11 = np.random.random((5,5))\n",
    "arr11"
   ]
  },
  {
   "cell_type": "code",
   "execution_count": 36,
   "id": "24e8957a",
   "metadata": {},
   "outputs": [
    {
     "data": {
      "text/plain": [
       "array([[10., 10., 10., 10., 10.],\n",
       "       [10., 10., 10., 10., 10.],\n",
       "       [10., 10., 10., 10., 10.],\n",
       "       [10., 10., 10., 10., 10.],\n",
       "       [10., 10., 10., 10., 10.]])"
      ]
     },
     "execution_count": 36,
     "metadata": {},
     "output_type": "execute_result"
    }
   ],
   "source": [
    "arr8 = arr8+10\n",
    "arr8"
   ]
  },
  {
   "cell_type": "code",
   "execution_count": 37,
   "id": "06ce69bf",
   "metadata": {},
   "outputs": [
    {
     "data": {
      "text/plain": [
       "array([[0.5, 0.5, 0.5, 0.5, 0.5],\n",
       "       [0.5, 0.5, 0.5, 0.5, 0.5],\n",
       "       [0.5, 0.5, 0.5, 0.5, 0.5],\n",
       "       [0.5, 0.5, 0.5, 0.5, 0.5],\n",
       "       [0.5, 0.5, 0.5, 0.5, 0.5]])"
      ]
     },
     "execution_count": 37,
     "metadata": {},
     "output_type": "execute_result"
    }
   ],
   "source": [
    "arr9 = arr9*0.5\n",
    "arr9"
   ]
  },
  {
   "cell_type": "code",
   "execution_count": 38,
   "id": "470269e1",
   "metadata": {},
   "outputs": [
    {
     "data": {
      "text/plain": [
       "array([[36.76535704, 18.49995105, 22.96656664, 28.8555795 , 35.51544939],\n",
       "       [36.76535704, 18.49995105, 22.96656664, 28.8555795 , 35.51544939],\n",
       "       [36.76535704, 18.49995105, 22.96656664, 28.8555795 , 35.51544939],\n",
       "       [36.76535704, 18.49995105, 22.96656664, 28.8555795 , 35.51544939],\n",
       "       [36.76535704, 18.49995105, 22.96656664, 28.8555795 , 35.51544939]])"
      ]
     },
     "execution_count": 38,
     "metadata": {},
     "output_type": "execute_result"
    }
   ],
   "source": [
    "arr12 = arr8 @ arr10\n",
    "arr12"
   ]
  },
  {
   "cell_type": "code",
   "execution_count": 39,
   "id": "0b038fc8",
   "metadata": {},
   "outputs": [
    {
     "name": "stdout",
     "output_type": "stream",
     "text": [
      "[[36.76535704 18.49995105 22.96656664 28.8555795  35.51544939]]\n",
      "[[36.76535704]\n",
      " [36.76535704]\n",
      " [36.76535704]\n",
      " [36.76535704]\n",
      " [36.76535704]]\n"
     ]
    }
   ],
   "source": [
    "print(arr12[[1],:])\n",
    "print(arr12[:,[0]])"
   ]
  },
  {
   "cell_type": "code",
   "execution_count": 40,
   "id": "95192aa2",
   "metadata": {},
   "outputs": [
    {
     "data": {
      "text/plain": [
       "28.855579504140017"
      ]
     },
     "execution_count": 40,
     "metadata": {},
     "output_type": "execute_result"
    }
   ],
   "source": [
    "arr12.item((3,3))"
   ]
  },
  {
   "cell_type": "code",
   "execution_count": 41,
   "id": "18476d1d",
   "metadata": {},
   "outputs": [
    {
     "data": {
      "text/plain": [
       "array([[36.42172404, 18.47299125, 22.30698109, 28.80579328, 35.00800568],\n",
       "       [36.63396055, 18.25498514, 22.9369959 , 28.14675509, 35.02998126],\n",
       "       [36.64334371, 17.8906069 , 22.38462922, 28.052083  , 34.77250886],\n",
       "       [36.38328113, 18.00650075, 22.64082512, 28.71348521, 35.15590718],\n",
       "       [36.37996542, 17.79648466, 22.27210653, 28.00384512, 34.63669859]])"
      ]
     },
     "execution_count": 41,
     "metadata": {},
     "output_type": "execute_result"
    }
   ],
   "source": [
    "arr13 = np.subtract(arr12,arr11)\n",
    "arr13"
   ]
  },
  {
   "cell_type": "code",
   "execution_count": 42,
   "id": "87434576",
   "metadata": {},
   "outputs": [
    {
     "data": {
      "text/plain": [
       "36.64334370524474"
      ]
     },
     "execution_count": 42,
     "metadata": {},
     "output_type": "execute_result"
    }
   ],
   "source": [
    "np.max(arr13)"
   ]
  },
  {
   "cell_type": "code",
   "execution_count": 43,
   "id": "9e71d1a7",
   "metadata": {},
   "outputs": [
    {
     "data": {
      "text/plain": [
       "17.796484662091853"
      ]
     },
     "execution_count": 43,
     "metadata": {},
     "output_type": "execute_result"
    }
   ],
   "source": [
    "np.min(arr13)"
   ]
  },
  {
   "cell_type": "code",
   "execution_count": 44,
   "id": "8c5c5c09",
   "metadata": {},
   "outputs": [
    {
     "data": {
      "text/plain": [
       "array([[36.42172404, 36.63396055, 36.64334371, 36.38328113, 36.37996542],\n",
       "       [18.47299125, 18.25498514, 17.8906069 , 18.00650075, 17.79648466],\n",
       "       [22.30698109, 22.9369959 , 22.38462922, 22.64082512, 22.27210653],\n",
       "       [28.80579328, 28.14675509, 28.052083  , 28.71348521, 28.00384512],\n",
       "       [35.00800568, 35.02998126, 34.77250886, 35.15590718, 34.63669859]])"
      ]
     },
     "execution_count": 44,
     "metadata": {},
     "output_type": "execute_result"
    }
   ],
   "source": [
    "arr14 = np.transpose(arr13)\n",
    "arr14"
   ]
  },
  {
   "cell_type": "code",
   "execution_count": 45,
   "id": "ecfd6426",
   "metadata": {},
   "outputs": [
    {
     "data": {
      "text/plain": [
       "25"
      ]
     },
     "execution_count": 45,
     "metadata": {},
     "output_type": "execute_result"
    }
   ],
   "source": [
    "arr14.size"
   ]
  },
  {
   "cell_type": "code",
   "execution_count": 46,
   "id": "2ac91cf5",
   "metadata": {},
   "outputs": [
    {
     "data": {
      "text/plain": [
       "(5, 5)"
      ]
     },
     "execution_count": 46,
     "metadata": {},
     "output_type": "execute_result"
    }
   ],
   "source": [
    "arr14.shape"
   ]
  },
  {
   "cell_type": "markdown",
   "id": "ccf56810",
   "metadata": {},
   "source": [
    "Q9"
   ]
  },
  {
   "cell_type": "code",
   "execution_count": 47,
   "id": "1b99d720",
   "metadata": {},
   "outputs": [
    {
     "name": "stdout",
     "output_type": "stream",
     "text": [
      "Defaulting to user installation because normal site-packages is not writeable\n",
      "Requirement already satisfied: opencv-python in c:\\users\\akank\\appdata\\roaming\\python\\python39\\site-packages (4.6.0.66)\n",
      "Requirement already satisfied: numpy>=1.17.3 in c:\\programdata\\anaconda3\\lib\\site-packages (from opencv-python) (1.21.5)\n",
      "Note: you may need to restart the kernel to use updated packages.\n"
     ]
    }
   ],
   "source": [
    "pip install opencv-python"
   ]
  },
  {
   "cell_type": "code",
   "execution_count": 48,
   "id": "fac5cd8f",
   "metadata": {},
   "outputs": [],
   "source": [
    "import cv2"
   ]
  },
  {
   "cell_type": "code",
   "execution_count": 49,
   "id": "ddf1c0ae",
   "metadata": {},
   "outputs": [
    {
     "name": "stdout",
     "output_type": "stream",
     "text": [
      "194 260 3\n",
      "uint8\n",
      "151320\n"
     ]
    }
   ],
   "source": [
    "img = cv2.imread(\"dog.jfif\",1)\n",
    "\n",
    "h,w,c = img.shape\n",
    "print(h,w,c)\n",
    "print(img.dtype)\n",
    "print(img.size)\n",
    "#print(img)\n",
    "\n",
    "cv2.imshow('Dog', img)\n",
    "k = cv2.waitKey(0)\n",
    "if k == 27 or k == ord('q'):\n",
    "    cv2.destroyAllWindows()"
   ]
  },
  {
   "cell_type": "code",
   "execution_count": 50,
   "id": "9d680d8b",
   "metadata": {},
   "outputs": [
    {
     "name": "stdout",
     "output_type": "stream",
     "text": [
      "(194, 260)\n",
      "uint8\n",
      "50440\n",
      "[[224 224 225 ... 206 206 206]\n",
      " [224 225 225 ... 205 205 205]\n",
      " [225 225 225 ... 204 204 204]\n",
      " ...\n",
      " [187 187 187 ... 176 176 176]\n",
      " [187 187 187 ... 170 174 177]\n",
      " [187 187 187 ... 170 174 177]]\n"
     ]
    }
   ],
   "source": [
    "gray = cv2.cvtColor(img, cv2.COLOR_BGR2GRAY)\n",
    "\n",
    "cv2.imshow('gray',gray)\n",
    "k = cv2.waitKey(0)\n",
    "    \n",
    "print(gray.shape)\n",
    "print(gray.dtype)\n",
    "print(gray.size)\n",
    "print(gray)"
   ]
  },
  {
   "cell_type": "code",
   "execution_count": 51,
   "id": "acec5353",
   "metadata": {},
   "outputs": [
    {
     "data": {
      "text/plain": [
       "True"
      ]
     },
     "execution_count": 51,
     "metadata": {},
     "output_type": "execute_result"
    }
   ],
   "source": [
    "#Rotation\n",
    "#Method1 OpenCV\n",
    "\n",
    "center = (w/2, h/2)\n",
    "rotate_matrix = cv2.getRotationMatrix2D(center=center, angle=30, scale=1)\n",
    "rotated_img = cv2.warpAffine(src=gray, M=rotate_matrix, dsize=(w, h))\n",
    "\n",
    "cv2.imshow('Rotated image', rotated_img)\n",
    "cv2.waitKey(0)\n",
    "cv2.imwrite('rotated_image.jpg', rotated_img)\n",
    "\n",
    "#Method2 Matrix\n",
    "#a = np.pi/6\n",
    "#rotation_matrix = np.array([[np.cos(a), np.sin(-a)], [np.sin(a),np.cos(a)]])\n",
    "#rotated_image = np.matmul(rotation_matrix, gray)\n",
    "#print(rotated_image)"
   ]
  },
  {
   "cell_type": "code",
   "execution_count": 52,
   "id": "70430f03",
   "metadata": {},
   "outputs": [
    {
     "data": {
      "text/plain": [
       "True"
      ]
     },
     "execution_count": 52,
     "metadata": {},
     "output_type": "execute_result"
    }
   ],
   "source": [
    "#Translation\n",
    "\n",
    "tx, ty = 10, 20\n",
    "translation_matrix = np.array([\n",
    "    [1, 0, tx],\n",
    "    [0, 1, ty]\n",
    "], dtype=np.float32)\n",
    "\n",
    "#Method1 OpenCV\n",
    "translated_img = cv2.warpAffine(src=gray, M=translation_matrix, dsize=(w,h))\n",
    "cv2.imshow('Translated image', translated_img)\n",
    "cv2.waitKey(0)\n",
    "cv2.imwrite('translated_image.jpg', translated_img)\n",
    "\n",
    "#Method2 Matrix\n",
    "#translated_image = np.matmul(translation_matrix, gray)\n",
    "#print(translation_image)"
   ]
  },
  {
   "cell_type": "code",
   "execution_count": 53,
   "id": "435a67ab",
   "metadata": {},
   "outputs": [
    {
     "data": {
      "text/plain": [
       "True"
      ]
     },
     "execution_count": 53,
     "metadata": {},
     "output_type": "execute_result"
    }
   ],
   "source": [
    "#scaling\n",
    "#Method1 OpenCV\n",
    "\n",
    "scale_factor = 0.5\n",
    "scaled_img = cv2.resize(gray, None, fx= scale_factor, fy= scale_factor, interpolation= cv2.INTER_LINEAR)\n",
    "\n",
    "cv2.imshow('Scaled image', scaled_img)\n",
    "cv2.waitKey(0)\n",
    "cv2.imwrite('scaled_image.jpg', scaled_img)\n",
    "\n",
    "#Method2 Matrix\n",
    "#scaling_matrix = np.array([[0.5,0],[0,0.5]])\n",
    "#scaled_image = np.matmul(scaling_matrix, gray)\n",
    "#print(scaled_image)"
   ]
  },
  {
   "cell_type": "code",
   "execution_count": 54,
   "id": "1c27aeef",
   "metadata": {},
   "outputs": [
    {
     "name": "stdout",
     "output_type": "stream",
     "text": [
      "253\n",
      "252\n",
      "0\n",
      "0\n"
     ]
    }
   ],
   "source": [
    "print(np.max(gray))\n",
    "print(np.max(scaled_img))\n",
    "print(np.min(gray))\n",
    "print(np.min(scaled_img))"
   ]
  },
  {
   "cell_type": "code",
   "execution_count": 55,
   "id": "039dd811",
   "metadata": {},
   "outputs": [
    {
     "name": "stdout",
     "output_type": "stream",
     "text": [
      "7899248\n",
      "156.60681998413958\n"
     ]
    }
   ],
   "source": [
    "print(gray.sum())\n",
    "print(gray.mean())"
   ]
  },
  {
   "cell_type": "code",
   "execution_count": 56,
   "id": "9e312d59",
   "metadata": {},
   "outputs": [
    {
     "data": {
      "text/plain": [
       "-1"
      ]
     },
     "execution_count": 56,
     "metadata": {},
     "output_type": "execute_result"
    }
   ],
   "source": [
    "gray30 = gray+30\n",
    "gray30\n",
    "cv2.imshow('gray_translated',gray30)\n",
    "cv2.waitKey(0)"
   ]
  },
  {
   "cell_type": "markdown",
   "id": "14621242",
   "metadata": {},
   "source": [
    "Q11"
   ]
  },
  {
   "cell_type": "code",
   "execution_count": 57,
   "id": "df24021c",
   "metadata": {},
   "outputs": [
    {
     "data": {
      "image/png": "[encoded data removed]",
      "text/plain": [
       "<Figure size 432x288 with 1 Axes>"
      ]
     },
     "metadata": {
      "needs_background": "light"
     },
     "output_type": "display_data"
    }
   ],
   "source": [
    "histogram, bin_edges= np.histogram(gray, bins=256)\n",
    "import matplotlib.pyplot as plt\n",
    "\n",
    "plt.figure()\n",
    "plt.title(\"Grayscale Histogram\")\n",
    "plt.xlabel(\"grayscale\")\n",
    "plt.ylabel(\"pixel count\")\n",
    "\n",
    "plt.plot(histogram)\n",
    "plt.show()"
   ]
  },
  {
   "cell_type": "code",
   "execution_count": 58,
   "id": "53c5d7f4",
   "metadata": {},
   "outputs": [
    {
     "name": "stdout",
     "output_type": "stream",
     "text": [
      "[[[41 52 50]\n",
      "  [39 50 48]\n",
      "  [60 71 69]\n",
      "  [82 90 89]\n",
      "  [87 95 94]]\n",
      "\n",
      " [[37 48 46]\n",
      "  [39 50 48]\n",
      "  [57 68 66]\n",
      "  [73 81 80]\n",
      "  [71 79 78]]\n",
      "\n",
      " [[19 30 28]\n",
      "  [24 35 33]\n",
      "  [37 48 46]\n",
      "  [55 63 62]\n",
      "  [63 71 70]]\n",
      "\n",
      " [[ 6 17 15]\n",
      "  [ 9 20 18]\n",
      "  [19 30 28]\n",
      "  [34 42 41]\n",
      "  [43 51 50]]\n",
      "\n",
      " [[ 0 10  8]\n",
      "  [ 0 10  8]\n",
      "  [ 5 16 14]\n",
      "  [16 24 23]\n",
      "  [23 31 30]]]\n"
     ]
    }
   ],
   "source": [
    "#Cropping\n",
    "#Method 1 OpenCV\n",
    "import random\n",
    "nx = random.randint(1,w-5)\n",
    "ny = random.randint(1,h-5)\n",
    "\n",
    "cropped_img = img[nx:nx+5 , ny:ny+5]\n",
    "cv2.imshow('Cropped Image', cropped_img)\n",
    "cv2.imwrite('cropped_image.jpg', cropped_img)\n",
    "cv2.waitKey(0)\n",
    "\n",
    "print(cropped_img)\n",
    "\n",
    "#Method2 Matrix\n",
    "#cropped_image = np.random.choice(gray,(5,5), replace=False)"
   ]
  },
  {
   "cell_type": "code",
   "execution_count": 59,
   "id": "0b31ef2f",
   "metadata": {},
   "outputs": [
    {
     "name": "stdout",
     "output_type": "stream",
     "text": [
      "47.07440918375928\n",
      "56\n",
      "46\n"
     ]
    }
   ],
   "source": [
    "dist_e =((51-5)**2+(13-3)**2)**(1/2)\n",
    "print(dist_e)\n",
    "\n",
    "dist_m = abs(51-5)+abs(13-3)\n",
    "print(dist_m)\n",
    "\n",
    "dist_c= max(abs(51-5),abs(13-3))\n",
    "print(dist_c)"
   ]
  }
 ],
 "metadata": {
  "kernelspec": {
   "display_name": "Python 3 (ipykernel)",
   "language": "python",
   "name": "python3"
  },
  "language_info": {
   "codemirror_mode": {
    "name": "ipython",
    "version": 3
   },
   "file_extension": ".py",
   "mimetype": "text/x-python",
   "name": "python",
   "nbconvert_exporter": "python",
   "pygments_lexer": "ipython3",
   "version": "3.9.12"
  }
 },
 "nbformat": 4,
 "nbformat_minor": 5
}
