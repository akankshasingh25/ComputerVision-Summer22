{
 "cells": [
  {
   "cell_type": "markdown",
   "id": "1cb8bb9c",
   "metadata": {},
   "source": [
    "### Q1"
   ]
  },
  {
   "cell_type": "code",
   "execution_count": 1,
   "id": "95213fc7",
   "metadata": {},
   "outputs": [
    {
     "data": {
      "text/plain": [
       "4.0"
      ]
     },
     "execution_count": 1,
     "metadata": {},
     "output_type": "execute_result"
    }
   ],
   "source": [
    "import numpy as np\n",
    "\n",
    "xp = [0,3]\n",
    "fp = [2, 5]\n",
    "np.interp(2, xp, fp)"
   ]
  },
  {
   "cell_type": "markdown",
   "id": "513fbf74",
   "metadata": {},
   "source": [
    "### Q2"
   ]
  },
  {
   "cell_type": "code",
   "execution_count": 2,
   "id": "506ad72f",
   "metadata": {},
   "outputs": [
    {
     "name": "stdout",
     "output_type": "stream",
     "text": [
      "[[3]\n",
      " [2]\n",
      " [1]]\n",
      "[[ 0.8660254 -0.5        0.       ]\n",
      " [ 0.5        0.8660254  0.       ]\n",
      " [ 0.         0.         1.       ]]\n",
      "[[1.59807621]\n",
      " [3.23205081]\n",
      " [1.        ]]\n",
      "[[1 0 5]\n",
      " [0 1 7]\n",
      " [0 0 1]]\n",
      "[[ 6.59807621]\n",
      " [10.23205081]\n",
      " [ 1.        ]]\n"
     ]
    }
   ],
   "source": [
    "arr = np.asmatrix([3,2,1])\n",
    "arrT = arr.transpose()\n",
    "print(arrT)\n",
    "\n",
    "#Rotation Matrix\n",
    "theta = np.radians(30)\n",
    "c, s = np.cos(theta), np.sin(theta)\n",
    "RoMatrix = np.asmatrix(((c, -s, 0), (s, c, 0), (0, 0, 1)))\n",
    "print(RoMatrix)\n",
    "\n",
    "#Transformation due to rotation\n",
    "R = np.matmul(RoMatrix, arrT)\n",
    "print(R)\n",
    "\n",
    "#Translation Matrix\n",
    "TransMatrix= np.asmatrix(((1,0,5), (0,1,7), (0,0,1)))\n",
    "print(TransMatrix)\n",
    "\n",
    "#Transformation due to translation\n",
    "TransformedMatrix = np.matmul(TransMatrix,R)\n",
    "print(TransformedMatrix)"
   ]
  },
  {
   "cell_type": "code",
   "execution_count": 3,
   "id": "0af47ba9",
   "metadata": {},
   "outputs": [
    {
     "name": "stdout",
     "output_type": "stream",
     "text": [
      "[[3]\n",
      " [2]\n",
      " [1]\n",
      " [1]]\n",
      "[[0 0 0]]\n",
      "[[5 7 0 1]]\n",
      "[[ 0.8660254 -0.5        0.         5.       ]\n",
      " [ 0.5        0.8660254  0.         7.       ]\n",
      " [ 0.         0.         1.         0.       ]\n",
      " [ 0.         0.         0.         1.       ]]\n",
      "[[ 6.59807621]\n",
      " [10.23205081]\n",
      " [ 1.        ]\n",
      " [ 1.        ]]\n"
     ]
    }
   ],
   "source": [
    "arr1 = np.asmatrix([3,2,1,1])\n",
    "arr1T = arr1.transpose()\n",
    "print(arr1T)\n",
    "\n",
    "z= np.asmatrix([0,0,0])\n",
    "print(z)\n",
    "\n",
    "trans = np.asmatrix([5,7,0,1])\n",
    "print(trans)\n",
    "\n",
    "#Transformation Matrix\n",
    "H1 = np.concatenate((RoMatrix,z), axis=0)\n",
    "H = np.concatenate((H1,trans.transpose()), axis=1)\n",
    "print(H)\n",
    "\n",
    "TransformedMatrix1 = np.matmul(H, arr1T)\n",
    "print(TransformedMatrix1)"
   ]
  },
  {
   "cell_type": "markdown",
   "id": "147f03a9",
   "metadata": {},
   "source": [
    "### Q3"
   ]
  },
  {
   "cell_type": "code",
   "execution_count": 4,
   "id": "8ca5050c",
   "metadata": {},
   "outputs": [
    {
     "name": "stdout",
     "output_type": "stream",
     "text": [
      "[a0 a1 a2]\n",
      "[[a0]\n",
      " [a0 + a1 + a2]\n",
      " [a0 + 2*a1 + 4*a2]]\n",
      "[[1 x1 x1**2]\n",
      " [1 x2 x2**2]\n",
      " [1 x3 x3**2]]\n",
      "[[a0 + a1*x1 + a2*x1**2]\n",
      " [a0 + a1*x2 + a2*x2**2]\n",
      " [a0 + a1*x3 + a2*x3**2]]\n"
     ]
    }
   ],
   "source": [
    "from sympy import *\n",
    "\n",
    "a0, a1, a2, x1, x2, x3, x  = symbols('a0, a1, a2, x1, x2, x3, x')\n",
    "p = Poly( a0 + a1*x + a2*x**2, x)\n",
    "\n",
    "c = p.all_coeffs()\n",
    "c = np.flipud(c)\n",
    "A = np.asmatrix(c).transpose()\n",
    "print(c)\n",
    "\n",
    "y = [p(0), p(1), p(2)]\n",
    "Y = np.asmatrix(y).transpose()\n",
    "print(Y)\n",
    "\n",
    "X = []\n",
    "x_values = [x1, x2, x3]\n",
    "d = p.degree()+1\n",
    "for x in x_values:\n",
    "    for k in range(d):\n",
    "        X.append(x**k)\n",
    "        \n",
    "X = np.asmatrix(X).reshape(3,3)\n",
    "print(X)\n",
    "\n",
    "Y = X*A\n",
    "print(Y)"
   ]
  },
  {
   "cell_type": "code",
   "execution_count": 5,
   "id": "1a601912",
   "metadata": {},
   "outputs": [
    {
     "name": "stdout",
     "output_type": "stream",
     "text": [
      "[[ 0.         -1.58294197 -1.41859485]]\n",
      "[[0.         0.         1.        ]\n",
      " [1.         0.84147098 1.        ]\n",
      " [4.         0.90929743 1.        ]]\n",
      "[[ 0.1]\n",
      " [-2. ]\n",
      " [ 0. ]]\n",
      "-1.7699899732081088\n"
     ]
    }
   ],
   "source": [
    "x_matrix = []\n",
    "\n",
    "def g(x):\n",
    "    x2 = x**2\n",
    "    x_matrix.append(x2)\n",
    "    x1 = np.sin(x)\n",
    "    x_matrix.append(x1)\n",
    "    x0 = 1\n",
    "    x_matrix.append(x0)\n",
    "    return (1/10)*(x**2) + (-2)*(np.sin(x))\n",
    "\n",
    "y = [g(0), g(1), g(2)]\n",
    "Y_matrix = np.asmatrix(y)\n",
    "print(Y_matrix)\n",
    "\n",
    "X_matrix = np.asmatrix(x_matrix).reshape(3,3)\n",
    "print(X_matrix)\n",
    "\n",
    "a = np.linalg.inv(X_matrix)*Y_matrix.transpose()\n",
    "print(a)\n",
    "\n",
    "p = g(1.5)\n",
    "print(p)"
   ]
  },
  {
   "cell_type": "markdown",
   "id": "8c18fcac",
   "metadata": {},
   "source": [
    "### Q4"
   ]
  },
  {
   "cell_type": "code",
   "execution_count": 6,
   "id": "7500e84e",
   "metadata": {},
   "outputs": [
    {
     "data": {
      "text/plain": [
       "matrix([[5],\n",
       "        [7],\n",
       "        [1]])"
      ]
     },
     "execution_count": 6,
     "metadata": {},
     "output_type": "execute_result"
    }
   ],
   "source": [
    "x = np.asmatrix([5,7]).transpose()\n",
    "one = np.asmatrix([1])\n",
    "X = np.concatenate((x,one),axis =0)\n",
    "X"
   ]
  },
  {
   "cell_type": "markdown",
   "id": "0bfd8170",
   "metadata": {},
   "source": [
    "### Q5"
   ]
  },
  {
   "cell_type": "markdown",
   "id": "6eff6bb8",
   "metadata": {},
   "source": [
    "Two intersecting planes always form a. line."
   ]
  },
  {
   "cell_type": "code",
   "execution_count": 7,
   "id": "069dc69d",
   "metadata": {},
   "outputs": [
    {
     "name": "stdout",
     "output_type": "stream",
     "text": [
      "[Line3D(Point3D(2, -1, 0), Point3D(2, -4, -3))]\n",
      "Point3D(0, -3, -3)\n"
     ]
    }
   ],
   "source": [
    "a = Plane(Point3D(0, 3, 0), normal_vector=(2, 1, -1))\n",
    "b = Plane(Point3D(3, 0, 0), normal_vector=(1, -1, 1))\n",
    "\n",
    "print(a.intersection(b))\n",
    "\n",
    "p1 = [2,-1,0]\n",
    "p2 = [2, -4, -3]\n",
    "\n",
    "d_vec = Line(p1, p2).direction\n",
    "print(d_vec) \n",
    "\n",
    "t  = symbols('t')\n",
    "x = poly(2 + t*0, t)\n",
    "y = poly(-1 + t*(-3), t)\n",
    "z = poly(t*(-3), t)"
   ]
  },
  {
   "cell_type": "markdown",
   "id": "5a661fcf",
   "metadata": {},
   "source": [
    "### Q6"
   ]
  },
  {
   "cell_type": "code",
   "execution_count": 8,
   "id": "37bccb31",
   "metadata": {},
   "outputs": [
    {
     "name": "stdout",
     "output_type": "stream",
     "text": [
      "x/2 + y/3 + 1/6\n",
      "-x/2 - y/3 + 1/6\n",
      "False\n",
      "False\n",
      "[]\n",
      "True\n",
      "False\n",
      "False\n"
     ]
    }
   ],
   "source": [
    "L1 = Line(Point(-1/3,0), Point(0,-1/2))\n",
    "print(L1.equation())\n",
    "\n",
    "L2 = Line(Point(1/3,0), Point(0,1/2))\n",
    "print(L2.equation())\n",
    "\n",
    "print(L1.equals(L2))\n",
    "print(Line.are_concurrent(L1,L2))\n",
    "print(L1.intersection(L2))\n",
    "print(L1.is_parallel(L2))\n",
    "print(L1.is_perpendicular(L2))\n",
    "print(L1.is_similar(L2))"
   ]
  },
  {
   "cell_type": "markdown",
   "id": "40f52dec",
   "metadata": {},
   "source": [
    "In projective geometry, the parallel lines in Euclidean coordinate system intersects in Homogeneous coordinate system at inifinity and it is called as Vanishing Point."
   ]
  },
  {
   "cell_type": "code",
   "execution_count": 9,
   "id": "d59c112f",
   "metadata": {},
   "outputs": [
    {
     "name": "stdout",
     "output_type": "stream",
     "text": [
      "[[-4]\n",
      " [ 6]\n",
      " [ 0]]\n"
     ]
    }
   ],
   "source": [
    "l = np.asmatrix([3,2,1])\n",
    "m = np.asmatrix([3,2,-1])\n",
    "\n",
    "intersect_HC = np.cross(l,m)\n",
    "intersect_HC = intersect_HC.T\n",
    "print(intersect_HC)"
   ]
  },
  {
   "cell_type": "code",
   "execution_count": 10,
   "id": "b12c17b7",
   "metadata": {},
   "outputs": [
    {
     "name": "stderr",
     "output_type": "stream",
     "text": [
      "C:\\Users\\akank\\AppData\\Local\\Temp\\ipykernel_22472\\3815327161.py:1: RuntimeWarning: divide by zero encountered in true_divide\n",
      "  intersect_EC = intersect_HC/intersect_HC[2,0]\n",
      "C:\\Users\\akank\\AppData\\Local\\Temp\\ipykernel_22472\\3815327161.py:1: RuntimeWarning: invalid value encountered in true_divide\n",
      "  intersect_EC = intersect_HC/intersect_HC[2,0]\n"
     ]
    }
   ],
   "source": [
    "intersect_EC = intersect_HC/intersect_HC[2,0]\n",
    "intersect_EC = np.delete(intersect_EC, 2, 0)"
   ]
  },
  {
   "cell_type": "markdown",
   "id": "e41c5990",
   "metadata": {},
   "source": [
    "### Q6"
   ]
  },
  {
   "cell_type": "code",
   "execution_count": 11,
   "id": "ed74bfa5",
   "metadata": {},
   "outputs": [
    {
     "name": "stdout",
     "output_type": "stream",
     "text": [
      "[[5 0 0 0]\n",
      " [0 1 0 0]\n",
      " [0 0 1 0]\n",
      " [0 0 0 1]]\n",
      "[[ 0.8660254 -0.5        0.         0.       ]\n",
      " [ 0.5        0.8660254  0.         0.       ]\n",
      " [ 0.         0.         1.         0.       ]\n",
      " [ 0.         0.         0.         1.       ]]\n",
      "[[1 2 0 0]\n",
      " [3 1 0 0]\n",
      " [0 0 1 0]\n",
      " [0 0 0 1]]\n",
      "[[1. 0. 0. 2.]\n",
      " [0. 1. 0. 1.]\n",
      " [0. 0. 1. 2.]\n",
      " [0. 0. 0. 1.]]\n",
      "[[ 9.33012702  1.23205081  0.          2.        ]\n",
      " [15.49038106 -0.6339746   0.          1.        ]\n",
      " [ 0.          0.          1.          2.        ]\n",
      " [ 0.          0.          0.          1.        ]]\n"
     ]
    }
   ],
   "source": [
    "z= np.asmatrix([0,0,0])\n",
    "zT = np.asmatrix([0, 0, 0, 1])\n",
    "I = np.identity(3)\n",
    "\n",
    "#Scaling Matrix\n",
    "Scale = np.asmatrix(((5, 0, 0), (0, 1, 0), (0, 0, 1)))\n",
    "\n",
    "A = np.concatenate((Scale,z), axis=0)\n",
    "A = np.concatenate((A,zT.T), axis=1)\n",
    "print(A)\n",
    "\n",
    "#Rotation Matrix\n",
    "theta = np.radians(30)\n",
    "c, s = np.cos(theta), np.sin(theta)\n",
    "Rotate = np.asmatrix(((c, -s, 0), (s, c, 0), (0, 0, 1)))\n",
    "\n",
    "B = np.concatenate((Rotate,z), axis=0)\n",
    "B = np.concatenate((B,zT.T), axis=1)\n",
    "print(B)\n",
    "\n",
    "#Shearing Matrix\n",
    "Shear = np.asmatrix(((1, 2, 0), (3, 1, 0), (0, 0, 1)))\n",
    "\n",
    "C = np.concatenate((Shear,z), axis=0)\n",
    "C = np.concatenate((C,zT.T), axis=1)\n",
    "print(C)\n",
    "\n",
    "#Translation Matrix\n",
    "#Trans = np.asmatrix(((1,0,2), (0,1,1), (0,0,2)))\n",
    "Trans = np.asmatrix([2,1,2,1])\n",
    "Trans = Trans.transpose()\n",
    "\n",
    "D = np.concatenate((I,z), axis=0)\n",
    "D = np.concatenate((D,Trans), axis=1)\n",
    "print(D)\n",
    "\n",
    "H = np.matmul(D,C)\n",
    "H = np.matmul(H,B)\n",
    "H = np.matmul(H,A)\n",
    "print(H)"
   ]
  },
  {
   "cell_type": "markdown",
   "id": "b66ba732",
   "metadata": {},
   "source": [
    "### Q7"
   ]
  },
  {
   "cell_type": "code",
   "execution_count": 12,
   "id": "5aa405dd",
   "metadata": {},
   "outputs": [
    {
     "name": "stdout",
     "output_type": "stream",
     "text": [
      "[[2]\n",
      " [3]\n",
      " [9]\n",
      " [1]]\n",
      "[[0 0 0]]\n",
      "[[8]\n",
      " [0]\n",
      " [5]\n",
      " [1]]\n",
      "[[5 0 0]\n",
      " [0 1 0]\n",
      " [0 0 1]]\n",
      "[[5 0 0 8]\n",
      " [0 1 0 0]\n",
      " [0 0 1 5]\n",
      " [0 0 0 1]]\n",
      "[[18]\n",
      " [ 3]\n",
      " [14]\n",
      " [ 1]]\n"
     ]
    }
   ],
   "source": [
    "#Writing 3D Point A in Homogeneous System\n",
    "A= np.asmatrix([2,3,9,1])\n",
    "A = A.transpose()\n",
    "print(A)\n",
    "\n",
    "z= np.asmatrix([0,0,0])\n",
    "print(z)\n",
    "\n",
    "#Translational Matrix\n",
    "trans = np.asmatrix([8,0,5,1])\n",
    "trans = trans.T\n",
    "print(trans)\n",
    "\n",
    "#Scaling Matrix\n",
    "Scale = np.asmatrix(((5, 0, 0), (0, 1, 0), (0, 0, 1)))\n",
    "print(Scale)\n",
    "\n",
    "#Transformation Matrix\n",
    "H = np.concatenate((Scale,z), axis=0)\n",
    "H = np.concatenate((H,trans), axis=1)\n",
    "print(H)\n",
    "\n",
    "Transformed = np.matmul(H, A)\n",
    "print(Transformed)"
   ]
  },
  {
   "cell_type": "markdown",
   "id": "adf4dbb8",
   "metadata": {},
   "source": [
    "### Q8"
   ]
  },
  {
   "cell_type": "code",
   "execution_count": 13,
   "id": "57d53c90",
   "metadata": {},
   "outputs": [
    {
     "name": "stdout",
     "output_type": "stream",
     "text": [
      "[[5]\n",
      " [9]\n",
      " [4]\n",
      " [1]]\n",
      "[[0 0 0]]\n",
      "[[ 4]\n",
      " [-3]\n",
      " [ 7]\n",
      " [ 1]]\n",
      "[[ 1.         0.         0.       ]\n",
      " [ 0.         0.8660254 -0.5      ]\n",
      " [ 0.         0.5        0.8660254]]\n",
      "[[ 6.123234e-17  0.000000e+00  1.000000e+00]\n",
      " [ 0.000000e+00  1.000000e+00  0.000000e+00]\n",
      " [-1.000000e+00  0.000000e+00  6.123234e-17]]\n",
      "[[-1.0000000e+00 -1.2246468e-16  0.0000000e+00]\n",
      " [ 1.2246468e-16 -1.0000000e+00  0.0000000e+00]\n",
      " [ 0.0000000e+00  0.0000000e+00  1.0000000e+00]]\n",
      "[[-6.12323400e-17 -5.00000000e-01 -8.66025404e-01]\n",
      " [ 7.49879891e-33 -8.66025404e-01  5.00000000e-01]\n",
      " [-1.00000000e+00  3.06161700e-17  5.30287619e-17]]\n",
      "[[-6.12323400e-17 -5.00000000e-01 -8.66025404e-01  4.00000000e+00]\n",
      " [ 7.49879891e-33 -8.66025404e-01  5.00000000e-01 -3.00000000e+00]\n",
      " [-1.00000000e+00  3.06161700e-17  5.30287619e-17  7.00000000e+00]\n",
      " [ 0.00000000e+00  0.00000000e+00  0.00000000e+00  1.00000000e+00]]\n",
      "[[-3.96410162]\n",
      " [-8.79422863]\n",
      " [ 2.        ]\n",
      " [ 1.        ]]\n"
     ]
    }
   ],
   "source": [
    "#Method 1\n",
    "\n",
    "#Writing 3D Point A in Homogeneous System\n",
    "V= np.asmatrix([5,9,4,1])\n",
    "V = V.transpose()\n",
    "print(V)\n",
    "\n",
    "z= np.asmatrix([0,0,0])\n",
    "print(z)\n",
    "\n",
    "#Translational Matrix\n",
    "trans = np.asmatrix([4,-3,7,1])\n",
    "trans = trans.T\n",
    "print(trans)\n",
    "\n",
    "#Rotation Matrix\n",
    "theta = np.radians(30)\n",
    "c_x, s_x = np.cos(theta), np.sin(theta)\n",
    "R_X= np.asmatrix(((1, 0, 0), (0, c_x, -s_x), (0, s_x, c_x)))\n",
    "print(R_X)\n",
    "\n",
    "alpha = np.radians(90)\n",
    "c_y, s_y = np.cos(alpha), np.sin(alpha)\n",
    "R_Y = np.asmatrix(((c_y, 0, s_y), (0, 1, 0), (-s_y, 0, c_y)))\n",
    "print(R_Y)\n",
    "\n",
    "kappa = np.radians(180)\n",
    "c_z, s_z = np.cos(kappa), np.sin(kappa)\n",
    "R_Z = np.asmatrix(((c_z, -s_z, 0), (s_z, c_z, 0), (0, 0, 1)))\n",
    "print(R_Z)\n",
    "\n",
    "Rot = np.matmul(R_Y, R_X)\n",
    "Rot = np.matmul(R_Z, Rot)\n",
    "print(Rot)\n",
    "\n",
    "#Transformation Matrix\n",
    "H = np.concatenate((Rot,z), axis=0)\n",
    "H = np.concatenate((H,trans), axis=1)\n",
    "print(H)\n",
    "\n",
    "Transformed = np.matmul(H, V)\n",
    "print(Transformed)"
   ]
  },
  {
   "cell_type": "code",
   "execution_count": 14,
   "id": "1e203b48",
   "metadata": {},
   "outputs": [
    {
     "name": "stdout",
     "output_type": "stream",
     "text": [
      "[[5]\n",
      " [9]\n",
      " [4]]\n",
      "[[-7.96410162]\n",
      " [-5.79422863]\n",
      " [-5.        ]]\n",
      "[[-27.96410162]\n",
      " [  9.20577137]\n",
      " [-35.        ]]\n"
     ]
    },
    {
     "data": {
      "text/plain": [
       "matrix([[-27.96410162],\n",
       "        [  9.20577137],\n",
       "        [-35.        ],\n",
       "        [  1.        ]])"
      ]
     },
     "execution_count": 14,
     "metadata": {},
     "output_type": "execute_result"
    }
   ],
   "source": [
    "#Method 2\n",
    "\n",
    "V= np.asmatrix([5,9,4])\n",
    "V = V.transpose()\n",
    "print(V)\n",
    "\n",
    "#Translational Matrix\n",
    "translation = np.asmatrix(((1, 0, 4),(0, 1, -3), (0, 0, 7)))\n",
    "\n",
    "rotated = np.matmul(Rot, V)\n",
    "print(rotated)\n",
    "\n",
    "Transformed = np.matmul(translation, rotated)\n",
    "print(Transformed)\n",
    "\n",
    "one = np.asmatrix([1])\n",
    "X = np.concatenate((Transformed,one),axis =0)\n",
    "X #Different results that I couldn't correct"
   ]
  },
  {
   "cell_type": "markdown",
   "id": "30cbd675",
   "metadata": {},
   "source": [
    "### Q9"
   ]
  },
  {
   "cell_type": "code",
   "execution_count": 15,
   "id": "8ccdcc37",
   "metadata": {},
   "outputs": [
    {
     "name": "stdout",
     "output_type": "stream",
     "text": [
      "[[880 214]\n",
      " [ 43 203]\n",
      " [270 197]\n",
      " [886 347]\n",
      " [745 302]\n",
      " [943 128]\n",
      " [476 590]\n",
      " [419 214]\n",
      " [317 335]\n",
      " [783 521]\n",
      " [235 427]\n",
      " [665 429]\n",
      " [665 362]\n",
      " [427 333]\n",
      " [412 415]\n",
      " [746 351]\n",
      " [434 415]\n",
      " [525 234]\n",
      " [716 308]\n",
      " [602 187]]\n",
      "[[312.747 309.14   30.086]\n",
      " [305.796 311.649  30.356]\n",
      " [307.694 312.358  30.418]\n",
      " [310.149 307.186  29.298]\n",
      " [311.937 310.105  29.216]\n",
      " [311.202 307.572  30.682]\n",
      " [307.106 306.876  28.66 ]\n",
      " [309.317 312.49   30.23 ]\n",
      " [307.435 310.151  29.318]\n",
      " [308.253 306.3    28.881]\n",
      " [306.65  309.301  28.905]\n",
      " [308.069 306.831  29.189]\n",
      " [309.671 308.834  29.029]\n",
      " [308.255 309.955  29.267]\n",
      " [307.546 308.613  28.963]\n",
      " [311.036 309.206  28.913]\n",
      " [307.518 308.175  29.069]\n",
      " [309.95  311.262  29.99 ]\n",
      " [312.16  310.772  29.08 ]\n",
      " [311.988 312.709  30.514]]\n"
     ]
    }
   ],
   "source": [
    "image_coords =[(880, 214), (43, 203), (270, 197), (886, 347), (745, 302), \n",
    "             (943, 128), (476, 590), (419, 214), (317, 335), (783, 521), \n",
    "             (235, 427), (665, 429), (665, 362), (427, 333), (412, 415), \n",
    "             (746, 351), (434, 415), (525, 234), (716, 308), (602, 187)]\n",
    "\n",
    "image_coords = np.reshape(image_coords, (20,2))\n",
    "print(image_coords)\n",
    "\n",
    "world_coords = [(312.747, 309.140, 30.086), (305.796, 311.649, 30.356), \n",
    "             (307.694, 312.358, 30.418), (310.149, 307.186, 29.298), \n",
    "             (311.937, 310.105, 29.216), (311.202, 307.572, 30.682), \n",
    "             (307.106, 306.876, 28.660), (309.317, 312.490, 30.230), \n",
    "             (307.435, 310.151, 29.318), (308.253, 306.300, 28.881), \n",
    "             (306.650, 309.301, 28.905), (308.069, 306.831, 29.189), \n",
    "             (309.671, 308.834, 29.029), (308.255, 309.955, 29.267), \n",
    "             (307.546, 308.613, 28.963), (311.036, 309.206, 28.913), \n",
    "             (307.518, 308.175, 29.069), (309.950, 311.262, 29.990), \n",
    "             (312.160, 310.772, 29.080), (311.988, 312.709, 30.514)]\n",
    "\n",
    "world_coords = np.reshape(world_coords, (20,3))\n",
    "print(world_coords)"
   ]
  },
  {
   "cell_type": "code",
   "execution_count": 16,
   "id": "61eaf4e4",
   "metadata": {},
   "outputs": [
    {
     "name": "stdout",
     "output_type": "stream",
     "text": [
      "[[ 3.12747000e+02  3.09140000e+02  3.00860000e+01  1.00000000e+00\n",
      "   0.00000000e+00  0.00000000e+00  0.00000000e+00  0.00000000e+00\n",
      "  -2.75217360e+05 -2.72043200e+05 -2.64756800e+04 -8.80000000e+02]\n",
      " [ 0.00000000e+00  0.00000000e+00  0.00000000e+00  0.00000000e+00\n",
      "   3.12747000e+02  3.09140000e+02  3.00860000e+01  1.00000000e+00\n",
      "  -6.69278580e+04 -6.61559600e+04 -6.43840400e+03 -2.14000000e+02]\n",
      " [ 3.05796000e+02  3.11649000e+02  3.03560000e+01  1.00000000e+00\n",
      "   0.00000000e+00  0.00000000e+00  0.00000000e+00  0.00000000e+00\n",
      "  -1.31492280e+04 -1.34009070e+04 -1.30530800e+03 -4.30000000e+01]\n",
      " [ 0.00000000e+00  0.00000000e+00  0.00000000e+00  0.00000000e+00\n",
      "   3.05796000e+02  3.11649000e+02  3.03560000e+01  1.00000000e+00\n",
      "  -6.20765880e+04 -6.32647470e+04 -6.16226800e+03 -2.03000000e+02]\n",
      " [ 3.07694000e+02  3.12358000e+02  3.04180000e+01  1.00000000e+00\n",
      "   0.00000000e+00  0.00000000e+00  0.00000000e+00  0.00000000e+00\n",
      "  -8.30773800e+04 -8.43366600e+04 -8.21286000e+03 -2.70000000e+02]\n",
      " [ 0.00000000e+00  0.00000000e+00  0.00000000e+00  0.00000000e+00\n",
      "   3.07694000e+02  3.12358000e+02  3.04180000e+01  1.00000000e+00\n",
      "  -6.06157180e+04 -6.15345260e+04 -5.99234600e+03 -1.97000000e+02]\n",
      " [ 3.10149000e+02  3.07186000e+02  2.92980000e+01  1.00000000e+00\n",
      "   0.00000000e+00  0.00000000e+00  0.00000000e+00  0.00000000e+00\n",
      "  -2.74792014e+05 -2.72166796e+05 -2.59580280e+04 -8.86000000e+02]\n",
      " [ 0.00000000e+00  0.00000000e+00  0.00000000e+00  0.00000000e+00\n",
      "   3.10149000e+02  3.07186000e+02  2.92980000e+01  1.00000000e+00\n",
      "  -1.07621703e+05 -1.06593542e+05 -1.01664060e+04 -3.47000000e+02]\n",
      " [ 3.11937000e+02  3.10105000e+02  2.92160000e+01  1.00000000e+00\n",
      "   0.00000000e+00  0.00000000e+00  0.00000000e+00  0.00000000e+00\n",
      "  -2.32393065e+05 -2.31028225e+05 -2.17659200e+04 -7.45000000e+02]\n",
      " [ 0.00000000e+00  0.00000000e+00  0.00000000e+00  0.00000000e+00\n",
      "   3.11937000e+02  3.10105000e+02  2.92160000e+01  1.00000000e+00\n",
      "  -9.42049740e+04 -9.36517100e+04 -8.82323200e+03 -3.02000000e+02]\n",
      " [ 3.11202000e+02  3.07572000e+02  3.06820000e+01  1.00000000e+00\n",
      "   0.00000000e+00  0.00000000e+00  0.00000000e+00  0.00000000e+00\n",
      "  -2.93463486e+05 -2.90040396e+05 -2.89331260e+04 -9.43000000e+02]\n",
      " [ 0.00000000e+00  0.00000000e+00  0.00000000e+00  0.00000000e+00\n",
      "   3.11202000e+02  3.07572000e+02  3.06820000e+01  1.00000000e+00\n",
      "  -3.98338560e+04 -3.93692160e+04 -3.92729600e+03 -1.28000000e+02]\n",
      " [ 3.07106000e+02  3.06876000e+02  2.86600000e+01  1.00000000e+00\n",
      "   0.00000000e+00  0.00000000e+00  0.00000000e+00  0.00000000e+00\n",
      "  -1.46182456e+05 -1.46072976e+05 -1.36421600e+04 -4.76000000e+02]\n",
      " [ 0.00000000e+00  0.00000000e+00  0.00000000e+00  0.00000000e+00\n",
      "   3.07106000e+02  3.06876000e+02  2.86600000e+01  1.00000000e+00\n",
      "  -1.81192540e+05 -1.81056840e+05 -1.69094000e+04 -5.90000000e+02]\n",
      " [ 3.09317000e+02  3.12490000e+02  3.02300000e+01  1.00000000e+00\n",
      "   0.00000000e+00  0.00000000e+00  0.00000000e+00  0.00000000e+00\n",
      "  -1.29603823e+05 -1.30933310e+05 -1.26663700e+04 -4.19000000e+02]\n",
      " [ 0.00000000e+00  0.00000000e+00  0.00000000e+00  0.00000000e+00\n",
      "   3.09317000e+02  3.12490000e+02  3.02300000e+01  1.00000000e+00\n",
      "  -6.61938380e+04 -6.68728600e+04 -6.46922000e+03 -2.14000000e+02]\n",
      " [ 3.07435000e+02  3.10151000e+02  2.93180000e+01  1.00000000e+00\n",
      "   0.00000000e+00  0.00000000e+00  0.00000000e+00  0.00000000e+00\n",
      "  -9.74568950e+04 -9.83178670e+04 -9.29380600e+03 -3.17000000e+02]\n",
      " [ 0.00000000e+00  0.00000000e+00  0.00000000e+00  0.00000000e+00\n",
      "   3.07435000e+02  3.10151000e+02  2.93180000e+01  1.00000000e+00\n",
      "  -1.02990725e+05 -1.03900585e+05 -9.82153000e+03 -3.35000000e+02]\n",
      " [ 3.08253000e+02  3.06300000e+02  2.88810000e+01  1.00000000e+00\n",
      "   0.00000000e+00  0.00000000e+00  0.00000000e+00  0.00000000e+00\n",
      "  -2.41362099e+05 -2.39832900e+05 -2.26138230e+04 -7.83000000e+02]\n",
      " [ 0.00000000e+00  0.00000000e+00  0.00000000e+00  0.00000000e+00\n",
      "   3.08253000e+02  3.06300000e+02  2.88810000e+01  1.00000000e+00\n",
      "  -1.60599813e+05 -1.59582300e+05 -1.50470010e+04 -5.21000000e+02]\n",
      " [ 3.06650000e+02  3.09301000e+02  2.89050000e+01  1.00000000e+00\n",
      "   0.00000000e+00  0.00000000e+00  0.00000000e+00  0.00000000e+00\n",
      "  -7.20627500e+04 -7.26857350e+04 -6.79267500e+03 -2.35000000e+02]\n",
      " [ 0.00000000e+00  0.00000000e+00  0.00000000e+00  0.00000000e+00\n",
      "   3.06650000e+02  3.09301000e+02  2.89050000e+01  1.00000000e+00\n",
      "  -1.30939550e+05 -1.32071527e+05 -1.23424350e+04 -4.27000000e+02]\n",
      " [ 3.08069000e+02  3.06831000e+02  2.91890000e+01  1.00000000e+00\n",
      "   0.00000000e+00  0.00000000e+00  0.00000000e+00  0.00000000e+00\n",
      "  -2.04865885e+05 -2.04042615e+05 -1.94106850e+04 -6.65000000e+02]\n",
      " [ 0.00000000e+00  0.00000000e+00  0.00000000e+00  0.00000000e+00\n",
      "   3.08069000e+02  3.06831000e+02  2.91890000e+01  1.00000000e+00\n",
      "  -1.32161601e+05 -1.31630499e+05 -1.25220810e+04 -4.29000000e+02]\n",
      " [ 3.09671000e+02  3.08834000e+02  2.90290000e+01  1.00000000e+00\n",
      "   0.00000000e+00  0.00000000e+00  0.00000000e+00  0.00000000e+00\n",
      "  -2.05931215e+05 -2.05374610e+05 -1.93042850e+04 -6.65000000e+02]\n",
      " [ 0.00000000e+00  0.00000000e+00  0.00000000e+00  0.00000000e+00\n",
      "   3.09671000e+02  3.08834000e+02  2.90290000e+01  1.00000000e+00\n",
      "  -1.12100902e+05 -1.11797908e+05 -1.05084980e+04 -3.62000000e+02]\n",
      " [ 3.08255000e+02  3.09955000e+02  2.92670000e+01  1.00000000e+00\n",
      "   0.00000000e+00  0.00000000e+00  0.00000000e+00  0.00000000e+00\n",
      "  -1.31624885e+05 -1.32350785e+05 -1.24970090e+04 -4.27000000e+02]\n",
      " [ 0.00000000e+00  0.00000000e+00  0.00000000e+00  0.00000000e+00\n",
      "   3.08255000e+02  3.09955000e+02  2.92670000e+01  1.00000000e+00\n",
      "  -1.02648915e+05 -1.03215015e+05 -9.74591100e+03 -3.33000000e+02]\n",
      " [ 3.07546000e+02  3.08613000e+02  2.89630000e+01  1.00000000e+00\n",
      "   0.00000000e+00  0.00000000e+00  0.00000000e+00  0.00000000e+00\n",
      "  -1.26708952e+05 -1.27148556e+05 -1.19327560e+04 -4.12000000e+02]\n",
      " [ 0.00000000e+00  0.00000000e+00  0.00000000e+00  0.00000000e+00\n",
      "   3.07546000e+02  3.08613000e+02  2.89630000e+01  1.00000000e+00\n",
      "  -1.27631590e+05 -1.28074395e+05 -1.20196450e+04 -4.15000000e+02]\n",
      " [ 3.11036000e+02  3.09206000e+02  2.89130000e+01  1.00000000e+00\n",
      "   0.00000000e+00  0.00000000e+00  0.00000000e+00  0.00000000e+00\n",
      "  -2.32032856e+05 -2.30667676e+05 -2.15690980e+04 -7.46000000e+02]\n",
      " [ 0.00000000e+00  0.00000000e+00  0.00000000e+00  0.00000000e+00\n",
      "   3.11036000e+02  3.09206000e+02  2.89130000e+01  1.00000000e+00\n",
      "  -1.09173636e+05 -1.08531306e+05 -1.01484630e+04 -3.51000000e+02]\n",
      " [ 3.07518000e+02  3.08175000e+02  2.90690000e+01  1.00000000e+00\n",
      "   0.00000000e+00  0.00000000e+00  0.00000000e+00  0.00000000e+00\n",
      "  -1.33462812e+05 -1.33747950e+05 -1.26159460e+04 -4.34000000e+02]\n",
      " [ 0.00000000e+00  0.00000000e+00  0.00000000e+00  0.00000000e+00\n",
      "   3.07518000e+02  3.08175000e+02  2.90690000e+01  1.00000000e+00\n",
      "  -1.27619970e+05 -1.27892625e+05 -1.20636350e+04 -4.15000000e+02]\n",
      " [ 3.09950000e+02  3.11262000e+02  2.99900000e+01  1.00000000e+00\n",
      "   0.00000000e+00  0.00000000e+00  0.00000000e+00  0.00000000e+00\n",
      "  -1.62723750e+05 -1.63412550e+05 -1.57447500e+04 -5.25000000e+02]\n",
      " [ 0.00000000e+00  0.00000000e+00  0.00000000e+00  0.00000000e+00\n",
      "   3.09950000e+02  3.11262000e+02  2.99900000e+01  1.00000000e+00\n",
      "  -7.25283000e+04 -7.28353080e+04 -7.01766000e+03 -2.34000000e+02]\n",
      " [ 3.12160000e+02  3.10772000e+02  2.90800000e+01  1.00000000e+00\n",
      "   0.00000000e+00  0.00000000e+00  0.00000000e+00  0.00000000e+00\n",
      "  -2.23506560e+05 -2.22512752e+05 -2.08212800e+04 -7.16000000e+02]\n",
      " [ 0.00000000e+00  0.00000000e+00  0.00000000e+00  0.00000000e+00\n",
      "   3.12160000e+02  3.10772000e+02  2.90800000e+01  1.00000000e+00\n",
      "  -9.61452800e+04 -9.57177760e+04 -8.95664000e+03 -3.08000000e+02]\n",
      " [ 3.11988000e+02  3.12709000e+02  3.05140000e+01  1.00000000e+00\n",
      "   0.00000000e+00  0.00000000e+00  0.00000000e+00  0.00000000e+00\n",
      "  -1.87816776e+05 -1.88250818e+05 -1.83694280e+04 -6.02000000e+02]\n",
      " [ 0.00000000e+00  0.00000000e+00  0.00000000e+00  0.00000000e+00\n",
      "   3.11988000e+02  3.12709000e+02  3.05140000e+01  1.00000000e+00\n",
      "  -5.83417560e+04 -5.84765830e+04 -5.70611800e+03 -1.87000000e+02]]\n"
     ]
    }
   ],
   "source": [
    "A = np.zeros((2*len(world_coords), 12))\n",
    "\n",
    "for i in range(0, A.shape[0], 2):\n",
    "    A[i, 0] = world_coords[int(i/2)][0]\n",
    "    A[i, 1] = world_coords[int(i/2)][1]\n",
    "    A[i, 2] = world_coords[int(i/2)][2]\n",
    "    A[i, 3] = 1\n",
    "    A[i, 8] = -1 * image_coords[int(i/2)][0] * world_coords[int(i/2)][0]\n",
    "    A[i, 9] = -1 * image_coords[int(i/2)][0] * world_coords[int(i/2)][1]\n",
    "    A[i, 10] = -1 * image_coords[int(i/2)][0] * world_coords[int(i/2)][2]\n",
    "    A[i, 11] = -1 * image_coords[int(i/2)][0]\n",
    "    A[i+1, 4] = world_coords[int(i/2)][0]\n",
    "    A[i+1, 5] = world_coords[int(i/2)][1]\n",
    "    A[i+1, 6] = world_coords[int(i/2)][2]\n",
    "    A[i+1, 7] = 1\n",
    "    A[i+1, 8] = -1 * image_coords[int(i/2)][1] * world_coords[int(i/2)][0]\n",
    "    A[i+1, 9] = -1 * image_coords[int(i/2)][1] * world_coords[int(i/2)][1]\n",
    "    A[i+1, 10] = -1 * image_coords[int(i/2)][1] * world_coords[int(i/2)][2]\n",
    "    A[i+1, 11] = -1 * image_coords[int(i/2)][1]\n",
    "\n",
    "print(A)"
   ]
  },
  {
   "cell_type": "code",
   "execution_count": 17,
   "id": "056a5b12",
   "metadata": {},
   "outputs": [
    {
     "name": "stdout",
     "output_type": "stream",
     "text": [
      "[[ 3.09551512e-03  1.50099363e-04 -4.55089945e-04 -9.78699360e-01]\n",
      " [ 3.08995055e-04  6.37417029e-04 -2.76003823e-03 -2.05250740e-01]\n",
      " [ 1.68238445e-06  2.74302661e-06 -6.69612696e-07 -1.32883746e-03]]\n"
     ]
    }
   ],
   "source": [
    "U, S, Vh = np.linalg.svd(A)\n",
    "V = Vh.T\n",
    "\n",
    "M = Vh[-1,:]\n",
    "M = np.reshape(M, (3,4))\n",
    "\n",
    "print(M)"
   ]
  },
  {
   "cell_type": "code",
   "execution_count": 18,
   "id": "a27124fd",
   "metadata": {},
   "outputs": [
    {
     "name": "stdout",
     "output_type": "stream",
     "text": [
      "[[ 3.09551512e-03  1.50099363e-04 -4.55089945e-04]\n",
      " [ 3.08995055e-04  6.37417029e-04 -2.76003823e-03]\n",
      " [ 1.68238445e-06  2.74302661e-06 -6.69612696e-07]]\n",
      "[[-0.84921374  0.52737269  0.02672191]\n",
      " [-0.12974186 -0.15933104 -0.97866269]\n",
      " [-0.51186235 -0.83456076  0.20372842]]\n",
      "[[-2.56175655e-03  1.98461690e-05 -1.80245944e-03]\n",
      " [ 0.00000000e+00  2.55949654e-03 -1.25242441e-03]\n",
      " [-0.00000000e+00 -0.00000000e+00 -3.28679077e-06]]\n",
      "[[-1.0000000e+00 -1.2246468e-16  0.0000000e+00]\n",
      " [ 1.2246468e-16 -1.0000000e+00  0.0000000e+00]\n",
      " [ 0.0000000e+00  0.0000000e+00  1.0000000e+00]]\n",
      "[[ 2.56175655e-03 -1.98461690e-05 -1.80245944e-03]\n",
      " [ 3.13447925e-19 -2.55949654e-03 -1.25242441e-03]\n",
      " [ 0.00000000e+00  0.00000000e+00 -3.28679077e-06]]\n",
      "[[ 0.84921374 -0.52737269 -0.02672191]\n",
      " [ 0.12974186  0.15933104  0.97866269]\n",
      " [-0.51186235 -0.83456076  0.20372842]]\n",
      "[[ 3.09551512e-03  1.50099363e-04 -4.55089945e-04]\n",
      " [ 3.08995055e-04  6.37417029e-04 -2.76003823e-03]\n",
      " [ 1.68238445e-06  2.74302661e-06 -6.69612696e-07]]\n",
      "[-0.97869936 -0.20525074 -0.00132884]\n",
      "[[ -98.48957906 -117.64026683  404.29633315]]\n"
     ]
    }
   ],
   "source": [
    "H = np.delete(M, 3, axis=1)\n",
    "print(H)\n",
    "\n",
    "#Decomposition\n",
    "q, r = np.linalg.qr(np.linalg.inv(H))\n",
    "\n",
    "R = q.T\n",
    "print(R)\n",
    "\n",
    "#Normalisation of K\n",
    "K = np.linalg.inv(r)\n",
    "print(K)\n",
    "\n",
    "#R(z, pi)\n",
    "kappa = np.radians(180)\n",
    "c_z, s_z = np.cos(kappa), np.sin(kappa)\n",
    "R_z = np.asmatrix(((c_z, -s_z, 0), (s_z, c_z, 0), (0, 0, 1)))\n",
    "print(R_Z)\n",
    "\n",
    "K = np.matmul(K, R_z)\n",
    "R = np.matmul(R_z, R)\n",
    "print(K)\n",
    "print(R)\n",
    "\n",
    "#Finding translational matrix\n",
    "H = np.matmul(K,R)\n",
    "print(H)\n",
    "\n",
    "h = M[:,-1]\n",
    "print(h)\n",
    "\n",
    "t = np.matmul(np.linalg.inv(K), h)\n",
    "print(t)"
   ]
  },
  {
   "cell_type": "markdown",
   "id": "c6cb7c26",
   "metadata": {},
   "source": [
    "### Q10"
   ]
  },
  {
   "cell_type": "code",
   "execution_count": 19,
   "id": "8305c132",
   "metadata": {},
   "outputs": [
    {
     "name": "stdout",
     "output_type": "stream",
     "text": [
      "[[ 512 -800    0  800]\n",
      " [ 512    0 -800 1600]\n",
      " [   1    0    0    0]]\n",
      "[[4]\n",
      " [0]\n",
      " [0]]\n"
     ]
    }
   ],
   "source": [
    "M = np.asmatrix(((512, -800, 0, 800), (512, 0, -800, 1600), (1, 0, 0, 0)))\n",
    "print(M)\n",
    "\n",
    "W = np.asmatrix((4,0,0)).T\n",
    "print(W)"
   ]
  }
 ],
 "metadata": {
  "kernelspec": {
   "display_name": "Python 3 (ipykernel)",
   "language": "python",
   "name": "python3"
  },
  "language_info": {
   "codemirror_mode": {
    "name": "ipython",
    "version": 3
   },
   "file_extension": ".py",
   "mimetype": "text/x-python",
   "name": "python",
   "nbconvert_exporter": "python",
   "pygments_lexer": "ipython3",
   "version": "3.9.12"
  }
 },
 "nbformat": 4,
 "nbformat_minor": 5
}
